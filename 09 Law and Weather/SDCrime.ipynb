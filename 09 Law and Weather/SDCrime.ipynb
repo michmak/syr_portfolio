{
 "cells": [
  {
   "cell_type": "code",
   "execution_count": 1,
   "metadata": {
    "colab": {},
    "colab_type": "code",
    "id": "j0W-QRiqQIkl"
   },
   "outputs": [],
   "source": [
    "# import data manipulation libraries\n",
    "import pandas as pd\n",
    "import numpy as np\n",
    "import datetime\n",
    "import warnings\n",
    "import pickle\n",
    "\n",
    "# Facebook Prophet forecasting library\n",
    "from fbprophet import Prophet\n",
    "\n",
    "# Libraries for plotting\n",
    "import seaborn as sns\n",
    "import matplotlib.pyplot as plt\n",
    "import matplotlib.dates as mdates\n",
    "\n",
    "# Sorting, find largest\n",
    "import heapq"
   ]
  },
  {
   "cell_type": "code",
   "execution_count": 2,
   "metadata": {
    "colab": {
     "base_uri": "https://localhost:8080/",
     "height": 323
    },
    "colab_type": "code",
    "executionInfo": {
     "elapsed": 12873,
     "status": "ok",
     "timestamp": 1553888910345,
     "user": {
      "displayName": "Brandon Niskala",
      "photoUrl": "",
      "userId": "00468056878931810182"
     },
     "user_tz": 240
    },
    "id": "vtSepnkmrIcm",
    "outputId": "ac8e7b1d-0fca-491b-f530-6349e8d42dc9"
   },
   "outputs": [],
   "source": [
    "#Give colab permissions to access Google Drive\n",
    "\n",
    "!pip install PyDrive\n",
    "\n",
    "import os\n",
    "from pydrive.auth import GoogleAuth\n",
    "from pydrive.drive import GoogleDrive\n",
    "from google.colab import auth\n",
    "from oauth2client.client import GoogleCredentials\n"
   ]
  },
  {
   "cell_type": "code",
   "execution_count": 3,
   "metadata": {
    "colab": {},
    "colab_type": "code",
    "id": "wS_iWB-wra2L"
   },
   "outputs": [],
   "source": [
    "auth.authenticate_user()\n",
    "gauth = GoogleAuth()\n",
    "gauth.credentials = GoogleCredentials.get_application_default()\n",
    "drive = GoogleDrive(gauth)"
   ]
  },
  {
   "cell_type": "code",
   "execution_count": 4,
   "metadata": {
    "colab": {
     "base_uri": "https://localhost:8080/",
     "height": 561
    },
    "colab_type": "code",
    "executionInfo": {
     "elapsed": 2735,
     "status": "ok",
     "timestamp": 1553888966109,
     "user": {
      "displayName": "Brandon Niskala",
      "photoUrl": "",
      "userId": "00468056878931810182"
     },
     "user_tz": 240
    },
    "id": "WIFFdCj9tMSj",
    "outputId": "3a2b481e-fe76-4ddb-bdd1-f87dc35e5406"
   },
   "outputs": [],
   "source": [
    "#https://drive.google.com/open?id=1vWXFYBkDola8nx7U8EmDsfyy_rk9dmqD\n",
    "\n",
    "download1 = drive.CreateFile({'id': '1vWXFYBkDola8nx7U8EmDsfyy_rk9dmqD'})\n",
    "download1.GetContentFile('DOWNLOAD.tar')"
   ]
  },
  {
   "cell_type": "code",
   "execution_count": 5,
   "metadata": {
    "colab": {},
    "colab_type": "code",
    "id": "PSA0GWcispP1"
   },
   "outputs": [],
   "source": [
    "download1.GetContentFile('SDPD_incident.csv')\n"
   ]
  },
  {
   "cell_type": "code",
   "execution_count": 6,
   "metadata": {
    "colab": {
     "base_uri": "https://localhost:8080/",
     "height": 318
    },
    "colab_type": "code",
    "executionInfo": {
     "elapsed": 4293,
     "status": "ok",
     "timestamp": 1553889009062,
     "user": {
      "displayName": "Brandon Niskala",
      "photoUrl": "",
      "userId": "00468056878931810182"
     },
     "user_tz": 240
    },
    "id": "6ex53Pvls-gv",
    "outputId": "60fd93d6-5d2b-4a96-ca19-1a7740642a40"
   },
   "outputs": [
    {
     "data": {
      "text/html": [
       "<div>\n",
       "<style scoped>\n",
       "    .dataframe tbody tr th:only-of-type {\n",
       "        vertical-align: middle;\n",
       "    }\n",
       "\n",
       "    .dataframe tbody tr th {\n",
       "        vertical-align: top;\n",
       "    }\n",
       "\n",
       "    .dataframe thead th {\n",
       "        text-align: right;\n",
       "    }\n",
       "</style>\n",
       "<table border=\"1\" class=\"dataframe\">\n",
       "  <thead>\n",
       "    <tr style=\"text-align: right;\">\n",
       "      <th></th>\n",
       "      <th>id</th>\n",
       "      <th>date</th>\n",
       "      <th>year</th>\n",
       "      <th>month</th>\n",
       "      <th>day</th>\n",
       "      <th>week</th>\n",
       "      <th>dow</th>\n",
       "      <th>time</th>\n",
       "      <th>hour</th>\n",
       "      <th>is_night</th>\n",
       "      <th>...</th>\n",
       "      <th>comm_pop</th>\n",
       "      <th>council</th>\n",
       "      <th>council_pop</th>\n",
       "      <th>asr_zone</th>\n",
       "      <th>lampdist</th>\n",
       "      <th>lat</th>\n",
       "      <th>lon</th>\n",
       "      <th>desc</th>\n",
       "      <th>gctype</th>\n",
       "      <th>gcquality</th>\n",
       "    </tr>\n",
       "  </thead>\n",
       "  <tbody>\n",
       "    <tr>\n",
       "      <th>0</th>\n",
       "      <td>NaN</td>\n",
       "      <td>2008-01-01</td>\n",
       "      <td>2008</td>\n",
       "      <td>1</td>\n",
       "      <td>2922</td>\n",
       "      <td>0</td>\n",
       "      <td>2</td>\n",
       "      <td>00:00:00</td>\n",
       "      <td>0</td>\n",
       "      <td>1</td>\n",
       "      <td>...</td>\n",
       "      <td>0</td>\n",
       "      <td>NONE</td>\n",
       "      <td>0</td>\n",
       "      <td>NaN</td>\n",
       "      <td>NaN</td>\n",
       "      <td>33.137756</td>\n",
       "      <td>-117.266499</td>\n",
       "      <td>PETTY THEFT</td>\n",
       "      <td>cns/segment</td>\n",
       "      <td>65</td>\n",
       "    </tr>\n",
       "    <tr>\n",
       "      <th>1</th>\n",
       "      <td>NaN</td>\n",
       "      <td>2008-01-01</td>\n",
       "      <td>2008</td>\n",
       "      <td>1</td>\n",
       "      <td>2922</td>\n",
       "      <td>0</td>\n",
       "      <td>2</td>\n",
       "      <td>00:00:00</td>\n",
       "      <td>0</td>\n",
       "      <td>1</td>\n",
       "      <td>...</td>\n",
       "      <td>0</td>\n",
       "      <td>NONE</td>\n",
       "      <td>0</td>\n",
       "      <td>NaN</td>\n",
       "      <td>NaN</td>\n",
       "      <td>32.630291</td>\n",
       "      <td>-117.004355</td>\n",
       "      <td>FRAUD</td>\n",
       "      <td>cns/segment</td>\n",
       "      <td>65</td>\n",
       "    </tr>\n",
       "    <tr>\n",
       "      <th>2</th>\n",
       "      <td>NaN</td>\n",
       "      <td>2008-01-01</td>\n",
       "      <td>2008</td>\n",
       "      <td>1</td>\n",
       "      <td>2922</td>\n",
       "      <td>0</td>\n",
       "      <td>2</td>\n",
       "      <td>00:00:00</td>\n",
       "      <td>0</td>\n",
       "      <td>1</td>\n",
       "      <td>...</td>\n",
       "      <td>0</td>\n",
       "      <td>NONE</td>\n",
       "      <td>0</td>\n",
       "      <td>NaN</td>\n",
       "      <td>NaN</td>\n",
       "      <td>33.193405</td>\n",
       "      <td>-117.316456</td>\n",
       "      <td>FRAUD</td>\n",
       "      <td>cns/segment</td>\n",
       "      <td>22</td>\n",
       "    </tr>\n",
       "    <tr>\n",
       "      <th>3</th>\n",
       "      <td>NaN</td>\n",
       "      <td>2008-01-01</td>\n",
       "      <td>2008</td>\n",
       "      <td>1</td>\n",
       "      <td>2922</td>\n",
       "      <td>0</td>\n",
       "      <td>2</td>\n",
       "      <td>00:00:00</td>\n",
       "      <td>0</td>\n",
       "      <td>1</td>\n",
       "      <td>...</td>\n",
       "      <td>0</td>\n",
       "      <td>NONE</td>\n",
       "      <td>0</td>\n",
       "      <td>NaN</td>\n",
       "      <td>NaN</td>\n",
       "      <td>32.655955</td>\n",
       "      <td>-116.958372</td>\n",
       "      <td>FRAUD</td>\n",
       "      <td>cns/segment</td>\n",
       "      <td>65</td>\n",
       "    </tr>\n",
       "    <tr>\n",
       "      <th>4</th>\n",
       "      <td>NaN</td>\n",
       "      <td>2008-01-01</td>\n",
       "      <td>2008</td>\n",
       "      <td>1</td>\n",
       "      <td>2922</td>\n",
       "      <td>0</td>\n",
       "      <td>2</td>\n",
       "      <td>00:00:00</td>\n",
       "      <td>0</td>\n",
       "      <td>1</td>\n",
       "      <td>...</td>\n",
       "      <td>0</td>\n",
       "      <td>NONE</td>\n",
       "      <td>0</td>\n",
       "      <td>NaN</td>\n",
       "      <td>NaN</td>\n",
       "      <td>32.626110</td>\n",
       "      <td>-117.079400</td>\n",
       "      <td>FRAUD</td>\n",
       "      <td>cns/segment</td>\n",
       "      <td>65</td>\n",
       "    </tr>\n",
       "  </tbody>\n",
       "</table>\n",
       "<p>5 rows × 26 columns</p>\n",
       "</div>"
      ],
      "text/plain": [
       "   id        date  year  month   day  week  dow      time  hour  is_night  \\\n",
       "0 NaN  2008-01-01  2008      1  2922     0    2  00:00:00     0         1   \n",
       "1 NaN  2008-01-01  2008      1  2922     0    2  00:00:00     0         1   \n",
       "2 NaN  2008-01-01  2008      1  2922     0    2  00:00:00     0         1   \n",
       "3 NaN  2008-01-01  2008      1  2922     0    2  00:00:00     0         1   \n",
       "4 NaN  2008-01-01  2008      1  2922     0    2  00:00:00     0         1   \n",
       "\n",
       "     ...     comm_pop council council_pop  asr_zone lampdist        lat  \\\n",
       "0    ...            0    NONE           0       NaN      NaN  33.137756   \n",
       "1    ...            0    NONE           0       NaN      NaN  32.630291   \n",
       "2    ...            0    NONE           0       NaN      NaN  33.193405   \n",
       "3    ...            0    NONE           0       NaN      NaN  32.655955   \n",
       "4    ...            0    NONE           0       NaN      NaN  32.626110   \n",
       "\n",
       "          lon         desc       gctype  gcquality  \n",
       "0 -117.266499  PETTY THEFT  cns/segment         65  \n",
       "1 -117.004355        FRAUD  cns/segment         65  \n",
       "2 -117.316456        FRAUD  cns/segment         22  \n",
       "3 -116.958372        FRAUD  cns/segment         65  \n",
       "4 -117.079400        FRAUD  cns/segment         65  \n",
       "\n",
       "[5 rows x 26 columns]"
      ]
     },
     "execution_count": 6,
     "metadata": {},
     "output_type": "execute_result"
    }
   ],
   "source": [
    "raw = pd.read_csv('SDPD_incident.csv', encoding = \"ISO-8859-1\")\n",
    "raw.head()"
   ]
  },
  {
   "cell_type": "code",
   "execution_count": 7,
   "metadata": {
    "colab": {
     "base_uri": "https://localhost:8080/",
     "height": 34
    },
    "colab_type": "code",
    "executionInfo": {
     "elapsed": 429,
     "status": "ok",
     "timestamp": 1553889012432,
     "user": {
      "displayName": "Brandon Niskala",
      "photoUrl": "",
      "userId": "00468056878931810182"
     },
     "user_tz": 240
    },
    "id": "bk4qo7muuv-1",
    "outputId": "c2019875-0dc2-43bf-8d47-b0272b56e749"
   },
   "outputs": [
    {
     "data": {
      "text/plain": [
       "(797978, 26)"
      ]
     },
     "execution_count": 7,
     "metadata": {},
     "output_type": "execute_result"
    }
   ],
   "source": [
    "raw.shape"
   ]
  },
  {
   "cell_type": "code",
   "execution_count": 8,
   "metadata": {
    "colab": {
     "base_uri": "https://localhost:8080/",
     "height": 85
    },
    "colab_type": "code",
    "executionInfo": {
     "elapsed": 517,
     "status": "ok",
     "timestamp": 1553619845292,
     "user": {
      "displayName": "Brandon Niskala",
      "photoUrl": "",
      "userId": "00468056878931810182"
     },
     "user_tz": 240
    },
    "id": "DjrLiCyYg8DL",
    "outputId": "035c3d13-4cd5-478d-9c70-2b35326ede0c"
   },
   "outputs": [
    {
     "data": {
      "text/plain": [
       "array(['THEFT/LARCENY', 'FRAUD', 'ASSAULT', 'SEX CRIMES', 'VANDALISM',\n",
       "       'VEHICLE BREAK-IN/THEFT', 'BURGLARY', 'MOTOR VEHICLE THEFT',\n",
       "       'ROBBERY', 'DRUGS/ALCOHOL VIOLATIONS', 'DUI', 'WEAPONS', 'ARSON',\n",
       "       'HOMICIDE'], dtype=object)"
      ]
     },
     "execution_count": 8,
     "metadata": {},
     "output_type": "execute_result"
    }
   ],
   "source": [
    "raw.type.unique()"
   ]
  },
  {
   "cell_type": "code",
   "execution_count": 9,
   "metadata": {
    "colab": {
     "base_uri": "https://localhost:8080/",
     "height": 34
    },
    "colab_type": "code",
    "executionInfo": {
     "elapsed": 304,
     "status": "ok",
     "timestamp": 1553619848035,
     "user": {
      "displayName": "Brandon Niskala",
      "photoUrl": "",
      "userId": "00468056878931810182"
     },
     "user_tz": 240
    },
    "id": "Y0J6ZAbzl9va",
    "outputId": "2b6d26a8-e74e-4575-f3b1-c05a2f67eafc"
   },
   "outputs": [
    {
     "data": {
      "text/plain": [
       "(797978, 26)"
      ]
     },
     "execution_count": 9,
     "metadata": {},
     "output_type": "execute_result"
    }
   ],
   "source": [
    "raw.shape"
   ]
  },
  {
   "cell_type": "code",
   "execution_count": 10,
   "metadata": {
    "colab": {
     "base_uri": "https://localhost:8080/",
     "height": 289
    },
    "colab_type": "code",
    "executionInfo": {
     "elapsed": 371,
     "status": "ok",
     "timestamp": 1553619850008,
     "user": {
      "displayName": "Brandon Niskala",
      "photoUrl": "",
      "userId": "00468056878931810182"
     },
     "user_tz": 240
    },
    "id": "zR6Sp-5VlJ8A",
    "outputId": "93353d6f-2166-4dc8-da84-f581bbf8670b"
   },
   "outputs": [
    {
     "data": {
      "text/plain": [
       "type\n",
       "ARSON                         1651\n",
       "ASSAULT                      69055\n",
       "BURGLARY                     71377\n",
       "DRUGS/ALCOHOL VIOLATIONS    185135\n",
       "DUI                          47098\n",
       "FRAUD                        43955\n",
       "HOMICIDE                       368\n",
       "MOTOR VEHICLE THEFT          70066\n",
       "ROBBERY                      17002\n",
       "SEX CRIMES                   17439\n",
       "THEFT/LARCENY               108939\n",
       "VANDALISM                    61439\n",
       "VEHICLE BREAK-IN/THEFT       95616\n",
       "WEAPONS                       8838\n",
       "Name: day, dtype: int64"
      ]
     },
     "execution_count": 10,
     "metadata": {},
     "output_type": "execute_result"
    }
   ],
   "source": [
    "raw.groupby('type')['day'].count()"
   ]
  },
  {
   "cell_type": "code",
   "execution_count": 11,
   "metadata": {
    "colab": {},
    "colab_type": "code",
    "id": "FvhoNeBcqklm"
   },
   "outputs": [],
   "source": [
    "pivot = raw.groupby('desc')['day'].count().reset_index()"
   ]
  },
  {
   "cell_type": "code",
   "execution_count": 12,
   "metadata": {
    "colab": {
     "base_uri": "https://localhost:8080/",
     "height": 514
    },
    "colab_type": "code",
    "executionInfo": {
     "elapsed": 293,
     "status": "ok",
     "timestamp": 1553619855486,
     "user": {
      "displayName": "Brandon Niskala",
      "photoUrl": "",
      "userId": "00468056878931810182"
     },
     "user_tz": 240
    },
    "id": "urR2d38fqqSH",
    "outputId": "d56161a4-f8ec-4aaa-af41-bcd2f2d57a82"
   },
   "outputs": [
    {
     "data": {
      "text/html": [
       "<div>\n",
       "<style scoped>\n",
       "    .dataframe tbody tr th:only-of-type {\n",
       "        vertical-align: middle;\n",
       "    }\n",
       "\n",
       "    .dataframe tbody tr th {\n",
       "        vertical-align: top;\n",
       "    }\n",
       "\n",
       "    .dataframe thead th {\n",
       "        text-align: right;\n",
       "    }\n",
       "</style>\n",
       "<table border=\"1\" class=\"dataframe\">\n",
       "  <thead>\n",
       "    <tr style=\"text-align: right;\">\n",
       "      <th></th>\n",
       "      <th>desc</th>\n",
       "      <th>day</th>\n",
       "    </tr>\n",
       "  </thead>\n",
       "  <tbody>\n",
       "    <tr>\n",
       "      <th>864</th>\n",
       "      <td>VEHICLE BREAK-IN/THEFT</td>\n",
       "      <td>95616</td>\n",
       "    </tr>\n",
       "    <tr>\n",
       "      <th>763</th>\n",
       "      <td>TAKE VEHICLE W/O OWNER'S CONSENT/VEHICLE THEFT</td>\n",
       "      <td>66010</td>\n",
       "    </tr>\n",
       "    <tr>\n",
       "      <th>242</th>\n",
       "      <td>DISORDERLY CONDUCT:  ALCOHOL</td>\n",
       "      <td>50842</td>\n",
       "    </tr>\n",
       "    <tr>\n",
       "      <th>682</th>\n",
       "      <td>RESIDENTIAL BURGLARY</td>\n",
       "      <td>45463</td>\n",
       "    </tr>\n",
       "    <tr>\n",
       "      <th>303</th>\n",
       "      <td>FRAUD</td>\n",
       "      <td>43955</td>\n",
       "    </tr>\n",
       "    <tr>\n",
       "      <th>262</th>\n",
       "      <td>DUI ALCOHOL AND/OR DRUGS</td>\n",
       "      <td>40688</td>\n",
       "    </tr>\n",
       "    <tr>\n",
       "      <th>514</th>\n",
       "      <td>PETTY THEFT</td>\n",
       "      <td>34305</td>\n",
       "    </tr>\n",
       "    <tr>\n",
       "      <th>199</th>\n",
       "      <td>COMMERCIAL BURGLARY</td>\n",
       "      <td>25914</td>\n",
       "    </tr>\n",
       "    <tr>\n",
       "      <th>490</th>\n",
       "      <td>OPEN CONTAINER IN PUBLIC PARK</td>\n",
       "      <td>22543</td>\n",
       "    </tr>\n",
       "    <tr>\n",
       "      <th>843</th>\n",
       "      <td>VANDALISM ($400 OR MORE)</td>\n",
       "      <td>21989</td>\n",
       "    </tr>\n",
       "    <tr>\n",
       "      <th>612</th>\n",
       "      <td>POSSESS MARIJUANA 28.5 GRAMS OR LESS OR W/NO P...</td>\n",
       "      <td>20103</td>\n",
       "    </tr>\n",
       "    <tr>\n",
       "      <th>849</th>\n",
       "      <td>VANDALISM (LESS THAN $400)</td>\n",
       "      <td>19566</td>\n",
       "    </tr>\n",
       "    <tr>\n",
       "      <th>517</th>\n",
       "      <td>PETTY THEFT / THEFT OF PERSONAL PROPERTY / SHO...</td>\n",
       "      <td>18974</td>\n",
       "    </tr>\n",
       "    <tr>\n",
       "      <th>840</th>\n",
       "      <td>USE/UNDER INFLUENCE OF CONTROLLED SUBSTANCE</td>\n",
       "      <td>17785</td>\n",
       "    </tr>\n",
       "    <tr>\n",
       "      <th>128</th>\n",
       "      <td>BATTERY WITH SERIOUS BODILY INJURY</td>\n",
       "      <td>15737</td>\n",
       "    </tr>\n",
       "  </tbody>\n",
       "</table>\n",
       "</div>"
      ],
      "text/plain": [
       "                                                  desc    day\n",
       "864                             VEHICLE BREAK-IN/THEFT  95616\n",
       "763     TAKE VEHICLE W/O OWNER'S CONSENT/VEHICLE THEFT  66010\n",
       "242                       DISORDERLY CONDUCT:  ALCOHOL  50842\n",
       "682                               RESIDENTIAL BURGLARY  45463\n",
       "303                                              FRAUD  43955\n",
       "262                           DUI ALCOHOL AND/OR DRUGS  40688\n",
       "514                                        PETTY THEFT  34305\n",
       "199                                COMMERCIAL BURGLARY  25914\n",
       "490                      OPEN CONTAINER IN PUBLIC PARK  22543\n",
       "843                           VANDALISM ($400 OR MORE)  21989\n",
       "612  POSSESS MARIJUANA 28.5 GRAMS OR LESS OR W/NO P...  20103\n",
       "849                         VANDALISM (LESS THAN $400)  19566\n",
       "517  PETTY THEFT / THEFT OF PERSONAL PROPERTY / SHO...  18974\n",
       "840        USE/UNDER INFLUENCE OF CONTROLLED SUBSTANCE  17785\n",
       "128                 BATTERY WITH SERIOUS BODILY INJURY  15737"
      ]
     },
     "execution_count": 12,
     "metadata": {},
     "output_type": "execute_result"
    }
   ],
   "source": [
    "pivot.sort_values(by = ['day'], ascending = False).head(15)"
   ]
  },
  {
   "cell_type": "code",
   "execution_count": null,
   "metadata": {
    "colab": {},
    "colab_type": "code",
    "id": "QQzJtCD3qqXD"
   },
   "outputs": [],
   "source": []
  },
  {
   "cell_type": "code",
   "execution_count": null,
   "metadata": {
    "colab": {},
    "colab_type": "code",
    "id": "PmsEmyEyqqVX"
   },
   "outputs": [],
   "source": []
  },
  {
   "cell_type": "code",
   "execution_count": 13,
   "metadata": {
    "colab": {},
    "colab_type": "code",
    "id": "7RIMGlZDQIks"
   },
   "outputs": [],
   "source": [
    "sd_crime = raw[['date', 'year']]\n",
    "sd_crime = sd_crime.groupby(['date', 'year']).date.agg('count').to_frame('incidents').reset_index()\n",
    "sd_crime = sd_crime.apply(lambda x: x.str.strip() if x.dtype == \"object\" else x)\n",
    "sd_crime = sd_crime[['date', 'incidents']]"
   ]
  },
  {
   "cell_type": "code",
   "execution_count": 14,
   "metadata": {
    "colab": {
     "base_uri": "https://localhost:8080/",
     "height": 364
    },
    "colab_type": "code",
    "executionInfo": {
     "elapsed": 804,
     "status": "ok",
     "timestamp": 1553619874883,
     "user": {
      "displayName": "Brandon Niskala",
      "photoUrl": "",
      "userId": "00468056878931810182"
     },
     "user_tz": 240
    },
    "id": "zOC4Fk22QIku",
    "outputId": "5b0b250a-a133-44b8-b80e-9920e0e672cc"
   },
   "outputs": [
    {
     "data": {
      "text/plain": [
       "[<matplotlib.lines.Line2D at 0x19a45778780>]"
      ]
     },
     "execution_count": 14,
     "metadata": {},
     "output_type": "execute_result"
    },
    {
     "data": {
      "image/png": "[encoded data removed]",
      "text/plain": [
       "<Figure size 432x288 with 1 Axes>"
      ]
     },
     "metadata": {
      "needs_background": "light"
     },
     "output_type": "display_data"
    }
   ],
   "source": [
    "from matplotlib import pyplot\n",
    "import matplotlib.dates as mpdates\n",
    "from pandas.plotting import register_matplotlib_converters\n",
    "register_matplotlib_converters()\n",
    "\n",
    "dates = pd.to_datetime(sd_crime['date'], infer_datetime_format=True)\n",
    "dates = mpdates.date2num(dates) \n",
    "incidents = sd_crime.incidents\n",
    "pyplot.plot_date(dates, incidents)"
   ]
  },
  {
   "cell_type": "code",
   "execution_count": 15,
   "metadata": {
    "colab": {
     "base_uri": "https://localhost:8080/",
     "height": 362
    },
    "colab_type": "code",
    "executionInfo": {
     "elapsed": 849,
     "status": "ok",
     "timestamp": 1553377378216,
     "user": {
      "displayName": "Kelly Hwang",
      "photoUrl": "https://lh5.googleusercontent.com/-Ne4gcnUs-OE/AAAAAAAAAAI/AAAAAAAAHpw/uKs_wg0THmE/s64/photo.jpg",
      "userId": "02218099254051343349"
     },
     "user_tz": 420
    },
    "id": "HS7X1jHUQIkx",
    "outputId": "55b5192a-68ef-4ad2-d1dd-b1dc04685943"
   },
   "outputs": [
    {
     "data": {
      "image/png": "[encoded data removed]",
      "text/plain": [
       "<Figure size 432x288 with 1 Axes>"
      ]
     },
     "metadata": {
      "needs_background": "light"
     },
     "output_type": "display_data"
    }
   ],
   "source": [
    "sd_crime.hist()\n",
    "pyplot.show()"
   ]
  },
  {
   "cell_type": "code",
   "execution_count": 16,
   "metadata": {
    "colab": {
     "base_uri": "https://localhost:8080/",
     "height": 382
    },
    "colab_type": "code",
    "executionInfo": {
     "elapsed": 797,
     "status": "ok",
     "timestamp": 1553377378497,
     "user": {
      "displayName": "Kelly Hwang",
      "photoUrl": "https://lh5.googleusercontent.com/-Ne4gcnUs-OE/AAAAAAAAAAI/AAAAAAAAHpw/uKs_wg0THmE/s64/photo.jpg",
      "userId": "02218099254051343349"
     },
     "user_tz": 420
    },
    "id": "OwBfkQMTQIkz",
    "outputId": "1313751c-decc-4d8b-a497-8af22a1e8769"
   },
   "outputs": [
    {
     "data": {
      "text/plain": [
       "<matplotlib.axes._subplots.AxesSubplot at 0x19a457469e8>"
      ]
     },
     "execution_count": 16,
     "metadata": {},
     "output_type": "execute_result"
    },
    {
     "data": {
      "image/png": "[encoded data removed]",
      "text/plain": [
       "<Figure size 432x288 with 1 Axes>"
      ]
     },
     "metadata": {
      "needs_background": "light"
     },
     "output_type": "display_data"
    }
   ],
   "source": [
    "from pandas.plotting import autocorrelation_plot\n",
    "sd_crime_ac = pd.DataFrame(dates, incidents)\n",
    "autocorrelation_plot(sd_crime_ac)"
   ]
  },
  {
   "cell_type": "code",
   "execution_count": 17,
   "metadata": {
    "colab": {},
    "colab_type": "code",
    "id": "w6GtuTKxQIk1"
   },
   "outputs": [],
   "source": [
    "weather = pd.read_csv('sd_weather.csv', dialect='excel', encoding = \"ISO-8859-1\",skiprows=range(1,2923),\n",
    "                      nrows=1827, header = 0)\n",
    "weather = weather.rename(columns={'Date': 'date'})\n",
    "Temp = weather[['date', 'TMax']]\n",
    "Rain = weather[['date', 'Precip']]\n",
    "All = weather[['date', 'TMax', 'Precip']]"
   ]
  },
  {
   "cell_type": "code",
   "execution_count": 18,
   "metadata": {
    "colab": {
     "base_uri": "https://localhost:8080/",
     "height": 34
    },
    "colab_type": "code",
    "executionInfo": {
     "elapsed": 426,
     "status": "ok",
     "timestamp": 1553889049472,
     "user": {
      "displayName": "Brandon Niskala",
      "photoUrl": "",
      "userId": "00468056878931810182"
     },
     "user_tz": 240
    },
    "id": "4dLHw17rxHed",
    "outputId": "dee46876-f61b-41a5-aced-93ca354f9cfb"
   },
   "outputs": [
    {
     "data": {
      "text/plain": [
       "(1827, 5)"
      ]
     },
     "execution_count": 18,
     "metadata": {},
     "output_type": "execute_result"
    }
   ],
   "source": [
    "weather.shape"
   ]
  },
  {
   "cell_type": "code",
   "execution_count": 19,
   "metadata": {
    "colab": {},
    "colab_type": "code",
    "id": "NebNhvWzQIk3"
   },
   "outputs": [],
   "source": [
    "crime_temp = pd.merge(sd_crime, Temp, on='date')\n",
    "crime_rain = pd.merge(sd_crime, Rain, on='date')\n",
    "crime_weather = pd.merge(sd_crime, All, on='date')"
   ]
  },
  {
   "cell_type": "code",
   "execution_count": 20,
   "metadata": {
    "colab": {
     "base_uri": "https://localhost:8080/",
     "height": 364
    },
    "colab_type": "code",
    "executionInfo": {
     "elapsed": 565,
     "status": "ok",
     "timestamp": 1553620100994,
     "user": {
      "displayName": "Brandon Niskala",
      "photoUrl": "",
      "userId": "00468056878931810182"
     },
     "user_tz": 240
    },
    "id": "7LFw1U9eQIk6",
    "outputId": "d1664ff1-611e-4e3f-a3c0-39c7e698aee3"
   },
   "outputs": [
    {
     "data": {
      "text/plain": [
       "[<matplotlib.lines.Line2D at 0x19a45b6b550>]"
      ]
     },
     "execution_count": 20,
     "metadata": {},
     "output_type": "execute_result"
    },
    {
     "data": {
      "image/png": "[encoded data removed]",
      "text/plain": [
       "<Figure size 432x288 with 1 Axes>"
      ]
     },
     "metadata": {
      "needs_background": "light"
     },
     "output_type": "display_data"
    }
   ],
   "source": [
    "tdates = pd.to_datetime(crime_temp['date'], infer_datetime_format=True)\n",
    "tdates = mpdates.date2num(tdates) \n",
    "tmax = crime_temp.TMax\n",
    "pyplot.plot_date(tdates, tmax)"
   ]
  },
  {
   "cell_type": "code",
   "execution_count": 21,
   "metadata": {
    "colab": {
     "base_uri": "https://localhost:8080/",
     "height": 364
    },
    "colab_type": "code",
    "executionInfo": {
     "elapsed": 752,
     "status": "ok",
     "timestamp": 1553620104460,
     "user": {
      "displayName": "Brandon Niskala",
      "photoUrl": "",
      "userId": "00468056878931810182"
     },
     "user_tz": 240
    },
    "id": "PoUo3xSdQIk8",
    "outputId": "4fc342ef-16ad-4e9e-c0e8-b73c97bc862c"
   },
   "outputs": [
    {
     "data": {
      "text/plain": [
       "[<matplotlib.lines.Line2D at 0x19a45c2d0f0>]"
      ]
     },
     "execution_count": 21,
     "metadata": {},
     "output_type": "execute_result"
    },
    {
     "data": {
      "image/png": "[encoded data removed]",
      "text/plain": [
       "<Figure size 432x288 with 1 Axes>"
      ]
     },
     "metadata": {
      "needs_background": "light"
     },
     "output_type": "display_data"
    }
   ],
   "source": [
    "tdates = pd.to_datetime(crime_rain['date'], infer_datetime_format=True)\n",
    "tdates = mpdates.date2num(tdates) \n",
    "rain = crime_rain.Precip\n",
    "pyplot.plot_date(tdates, rain)"
   ]
  },
  {
   "cell_type": "code",
   "execution_count": 22,
   "metadata": {},
   "outputs": [
    {
     "data": {
      "image/png": "[encoded data removed]",
      "text/plain": [
       "<Figure size 432x288 with 3 Axes>"
      ]
     },
     "metadata": {
      "needs_background": "light"
     },
     "output_type": "display_data"
    }
   ],
   "source": [
    "import matplotlib.pyplot as pyplot\n",
    "values = crime_weather.values\n",
    "# specify columns to plot\n",
    "groups = [1,2,3]\n",
    "i = 1\n",
    "# plot each column\n",
    "pyplot.figure()\n",
    "for group in groups:\n",
    "\tpyplot.subplot(len(groups), 1, i)\n",
    "\tpyplot.plot(values[:, group])\n",
    "\tpyplot.title(crime_weather.columns[group], y=0.5, loc='right')\n",
    "\ti += 1\n",
    "pyplot.show()"
   ]
  },
  {
   "cell_type": "code",
   "execution_count": 23,
   "metadata": {
    "colab": {
     "base_uri": "https://localhost:8080/",
     "height": 419
    },
    "colab_type": "code",
    "executionInfo": {
     "elapsed": 535,
     "status": "ok",
     "timestamp": 1553377379649,
     "user": {
      "displayName": "Kelly Hwang",
      "photoUrl": "https://lh5.googleusercontent.com/-Ne4gcnUs-OE/AAAAAAAAAAI/AAAAAAAAHpw/uKs_wg0THmE/s64/photo.jpg",
      "userId": "02218099254051343349"
     },
     "user_tz": 420
    },
    "id": "ID8owADjQIlA",
    "outputId": "f9b1c290-0dbc-42ca-d016-db2da9b4f04d"
   },
   "outputs": [
    {
     "name": "stdout",
     "output_type": "stream",
     "text": [
      "           incidents      TMax\n",
      "incidents   1.000000  0.092484\n",
      "TMax        0.092484  1.000000\n"
     ]
    },
    {
     "data": {
      "text/plain": [
       "<matplotlib.axes._subplots.AxesSubplot at 0x19a45d03630>"
      ]
     },
     "execution_count": 23,
     "metadata": {},
     "output_type": "execute_result"
    },
    {
     "data": {
      "image/png": "[encoded data removed]",
      "text/plain": [
       "<Figure size 432x288 with 2 Axes>"
      ]
     },
     "metadata": {
      "needs_background": "light"
     },
     "output_type": "display_data"
    }
   ],
   "source": [
    "#import matplotlib.pyplot as plt\n",
    "import seaborn as sns\n",
    "corr = crime_temp.corr()\n",
    "print(corr)\n",
    "sns.heatmap(corr, xticklabels=corr.columns.values,\n",
    "             yticklabels=corr.columns.values)"
   ]
  },
  {
   "cell_type": "code",
   "execution_count": 24,
   "metadata": {
    "colab": {
     "base_uri": "https://localhost:8080/",
     "height": 415
    },
    "colab_type": "code",
    "executionInfo": {
     "elapsed": 846,
     "status": "ok",
     "timestamp": 1553377381689,
     "user": {
      "displayName": "Kelly Hwang",
      "photoUrl": "https://lh5.googleusercontent.com/-Ne4gcnUs-OE/AAAAAAAAAAI/AAAAAAAAHpw/uKs_wg0THmE/s64/photo.jpg",
      "userId": "02218099254051343349"
     },
     "user_tz": 420
    },
    "id": "bgrD7WLwQIlD",
    "outputId": "a4355a8f-c20d-4291-b6c5-58cd73c26b7f"
   },
   "outputs": [
    {
     "name": "stdout",
     "output_type": "stream",
     "text": [
      "           incidents    Precip\n",
      "incidents   1.000000 -0.126995\n",
      "Precip     -0.126995  1.000000\n"
     ]
    },
    {
     "data": {
      "text/plain": [
       "<matplotlib.axes._subplots.AxesSubplot at 0x19a46bb7dd8>"
      ]
     },
     "execution_count": 24,
     "metadata": {},
     "output_type": "execute_result"
    },
    {
     "data": {
      "image/png": "[encoded data removed]",
      "text/plain": [
       "<Figure size 432x288 with 2 Axes>"
      ]
     },
     "metadata": {
      "needs_background": "light"
     },
     "output_type": "display_data"
    }
   ],
   "source": [
    "corr = crime_rain.corr()\n",
    "print(corr)\n",
    "sns.heatmap(corr, xticklabels=corr.columns.values,\n",
    "             yticklabels=corr.columns.values)\n"
   ]
  },
  {
   "cell_type": "code",
   "execution_count": 25,
   "metadata": {
    "colab": {
     "base_uri": "https://localhost:8080/",
     "height": 508
    },
    "colab_type": "code",
    "executionInfo": {
     "elapsed": 7687,
     "status": "ok",
     "timestamp": 1553377388853,
     "user": {
      "displayName": "Kelly Hwang",
      "photoUrl": "https://lh5.googleusercontent.com/-Ne4gcnUs-OE/AAAAAAAAAAI/AAAAAAAAHpw/uKs_wg0THmE/s64/photo.jpg",
      "userId": "02218099254051343349"
     },
     "user_tz": 420
    },
    "id": "S3pagCCR54Jz",
    "outputId": "8cdd34b6-3bdc-40ad-9ba6-4849bc978a48"
   },
   "outputs": [
    {
     "name": "stderr",
     "output_type": "stream",
     "text": [
      "INFO:fbprophet:Disabling daily seasonality. Run prophet with daily_seasonality=True to override this.\n"
     ]
    },
    {
     "data": {
      "image/png": "[encoded data removed]",
      "text/plain": [
       "<Figure size 720x432 with 1 Axes>"
      ]
     },
     "metadata": {},
     "output_type": "display_data"
    }
   ],
   "source": [
    "# renaming columns for prophet compatability\n",
    "sd_crime = sd_crime.rename(columns={'date': 'ds', 'incidents': 'y'},index=str)\n",
    "\n",
    "sd_crime.head()\n",
    "\n",
    "\n",
    "# create a model using Prophet\n",
    "m = Prophet()\n",
    "m.fit(sd_crime)\n",
    "\n",
    "future = m.make_future_dataframe(periods=365)\n",
    "\n",
    "forecast = m.predict(future)\n",
    "\n",
    "fig1 = m.plot(forecast)\n",
    "\n"
   ]
  },
  {
   "cell_type": "code",
   "execution_count": 26,
   "metadata": {
    "colab": {
     "base_uri": "https://localhost:8080/",
     "height": 653
    },
    "colab_type": "code",
    "executionInfo": {
     "elapsed": 8456,
     "status": "ok",
     "timestamp": 1553377389977,
     "user": {
      "displayName": "Kelly Hwang",
      "photoUrl": "https://lh5.googleusercontent.com/-Ne4gcnUs-OE/AAAAAAAAAAI/AAAAAAAAHpw/uKs_wg0THmE/s64/photo.jpg",
      "userId": "02218099254051343349"
     },
     "user_tz": 420
    },
    "id": "WV4mc7iW7MCO",
    "outputId": "907ce586-0f26-479d-dd44-2e481ca67fdd"
   },
   "outputs": [
    {
     "data": {
      "image/png": "[encoded data removed]",
      "text/plain": [
       "<Figure size 648x648 with 3 Axes>"
      ]
     },
     "metadata": {},
     "output_type": "display_data"
    }
   ],
   "source": [
    "fig2 = m.plot_components(forecast)"
   ]
  },
  {
   "cell_type": "code",
   "execution_count": 27,
   "metadata": {
    "colab": {
     "base_uri": "https://localhost:8080/",
     "height": 204
    },
    "colab_type": "code",
    "executionInfo": {
     "elapsed": 8161,
     "status": "ok",
     "timestamp": 1553377389978,
     "user": {
      "displayName": "Kelly Hwang",
      "photoUrl": "https://lh5.googleusercontent.com/-Ne4gcnUs-OE/AAAAAAAAAAI/AAAAAAAAHpw/uKs_wg0THmE/s64/photo.jpg",
      "userId": "02218099254051343349"
     },
     "user_tz": 420
    },
    "id": "Bt9GgmVu69xx",
    "outputId": "83e753b6-e8ab-48ab-c374-1d190cbcf15e"
   },
   "outputs": [
    {
     "data": {
      "text/html": [
       "<div>\n",
       "<style scoped>\n",
       "    .dataframe tbody tr th:only-of-type {\n",
       "        vertical-align: middle;\n",
       "    }\n",
       "\n",
       "    .dataframe tbody tr th {\n",
       "        vertical-align: top;\n",
       "    }\n",
       "\n",
       "    .dataframe thead th {\n",
       "        text-align: right;\n",
       "    }\n",
       "</style>\n",
       "<table border=\"1\" class=\"dataframe\">\n",
       "  <thead>\n",
       "    <tr style=\"text-align: right;\">\n",
       "      <th></th>\n",
       "      <th>ds</th>\n",
       "      <th>yhat</th>\n",
       "      <th>yhat_lower</th>\n",
       "      <th>yhat_upper</th>\n",
       "    </tr>\n",
       "  </thead>\n",
       "  <tbody>\n",
       "    <tr>\n",
       "      <th>2187</th>\n",
       "      <td>2013-12-27</td>\n",
       "      <td>429.357975</td>\n",
       "      <td>370.553152</td>\n",
       "      <td>484.205132</td>\n",
       "    </tr>\n",
       "    <tr>\n",
       "      <th>2188</th>\n",
       "      <td>2013-12-28</td>\n",
       "      <td>408.704984</td>\n",
       "      <td>350.137133</td>\n",
       "      <td>467.077986</td>\n",
       "    </tr>\n",
       "    <tr>\n",
       "      <th>2189</th>\n",
       "      <td>2013-12-29</td>\n",
       "      <td>346.107351</td>\n",
       "      <td>286.868208</td>\n",
       "      <td>402.492078</td>\n",
       "    </tr>\n",
       "    <tr>\n",
       "      <th>2190</th>\n",
       "      <td>2013-12-30</td>\n",
       "      <td>333.395723</td>\n",
       "      <td>278.261661</td>\n",
       "      <td>389.447558</td>\n",
       "    </tr>\n",
       "    <tr>\n",
       "      <th>2191</th>\n",
       "      <td>2013-12-31</td>\n",
       "      <td>342.232545</td>\n",
       "      <td>283.322187</td>\n",
       "      <td>399.682071</td>\n",
       "    </tr>\n",
       "  </tbody>\n",
       "</table>\n",
       "</div>"
      ],
      "text/plain": [
       "             ds        yhat  yhat_lower  yhat_upper\n",
       "2187 2013-12-27  429.357975  370.553152  484.205132\n",
       "2188 2013-12-28  408.704984  350.137133  467.077986\n",
       "2189 2013-12-29  346.107351  286.868208  402.492078\n",
       "2190 2013-12-30  333.395723  278.261661  389.447558\n",
       "2191 2013-12-31  342.232545  283.322187  399.682071"
      ]
     },
     "execution_count": 27,
     "metadata": {},
     "output_type": "execute_result"
    }
   ],
   "source": [
    "forecast[['ds', 'yhat', 'yhat_lower', 'yhat_upper']].tail()\n"
   ]
  },
  {
   "cell_type": "code",
   "execution_count": 28,
   "metadata": {
    "colab": {
     "base_uri": "https://localhost:8080/",
     "height": 204
    },
    "colab_type": "code",
    "executionInfo": {
     "elapsed": 5215,
     "status": "ok",
     "timestamp": 1553377389979,
     "user": {
      "displayName": "Kelly Hwang",
      "photoUrl": "https://lh5.googleusercontent.com/-Ne4gcnUs-OE/AAAAAAAAAAI/AAAAAAAAHpw/uKs_wg0THmE/s64/photo.jpg",
      "userId": "02218099254051343349"
     },
     "user_tz": 420
    },
    "id": "ft50-AqG9OQy",
    "outputId": "e485eb00-35c4-4555-f90f-6c8c4dcbf450"
   },
   "outputs": [
    {
     "data": {
      "text/html": [
       "<div>\n",
       "<style scoped>\n",
       "    .dataframe tbody tr th:only-of-type {\n",
       "        vertical-align: middle;\n",
       "    }\n",
       "\n",
       "    .dataframe tbody tr th {\n",
       "        vertical-align: top;\n",
       "    }\n",
       "\n",
       "    .dataframe thead th {\n",
       "        text-align: right;\n",
       "    }\n",
       "</style>\n",
       "<table border=\"1\" class=\"dataframe\">\n",
       "  <thead>\n",
       "    <tr style=\"text-align: right;\">\n",
       "      <th></th>\n",
       "      <th>date</th>\n",
       "      <th>incidents</th>\n",
       "      <th>Precip</th>\n",
       "    </tr>\n",
       "  </thead>\n",
       "  <tbody>\n",
       "    <tr>\n",
       "      <th>0</th>\n",
       "      <td>2008-01-01</td>\n",
       "      <td>856</td>\n",
       "      <td>0.0</td>\n",
       "    </tr>\n",
       "    <tr>\n",
       "      <th>1</th>\n",
       "      <td>2008-01-02</td>\n",
       "      <td>434</td>\n",
       "      <td>0.0</td>\n",
       "    </tr>\n",
       "    <tr>\n",
       "      <th>2</th>\n",
       "      <td>2008-01-03</td>\n",
       "      <td>457</td>\n",
       "      <td>0.0</td>\n",
       "    </tr>\n",
       "    <tr>\n",
       "      <th>3</th>\n",
       "      <td>2008-01-04</td>\n",
       "      <td>532</td>\n",
       "      <td>0.3</td>\n",
       "    </tr>\n",
       "    <tr>\n",
       "      <th>4</th>\n",
       "      <td>2008-01-05</td>\n",
       "      <td>431</td>\n",
       "      <td>22.4</td>\n",
       "    </tr>\n",
       "  </tbody>\n",
       "</table>\n",
       "</div>"
      ],
      "text/plain": [
       "         date  incidents  Precip\n",
       "0  2008-01-01        856     0.0\n",
       "1  2008-01-02        434     0.0\n",
       "2  2008-01-03        457     0.0\n",
       "3  2008-01-04        532     0.3\n",
       "4  2008-01-05        431    22.4"
      ]
     },
     "execution_count": 28,
     "metadata": {},
     "output_type": "execute_result"
    }
   ],
   "source": [
    "#crime_temp\n",
    "crime_rain.head()"
   ]
  },
  {
   "cell_type": "code",
   "execution_count": 29,
   "metadata": {
    "colab": {
     "base_uri": "https://localhost:8080/",
     "height": 204
    },
    "colab_type": "code",
    "executionInfo": {
     "elapsed": 510,
     "status": "ok",
     "timestamp": 1553377392555,
     "user": {
      "displayName": "Kelly Hwang",
      "photoUrl": "https://lh5.googleusercontent.com/-Ne4gcnUs-OE/AAAAAAAAAAI/AAAAAAAAHpw/uKs_wg0THmE/s64/photo.jpg",
      "userId": "02218099254051343349"
     },
     "user_tz": 420
    },
    "id": "je7dpG8A9QFl",
    "outputId": "bd9e0a30-38b0-4bc5-a276-9680b04084bb"
   },
   "outputs": [
    {
     "data": {
      "text/html": [
       "<div>\n",
       "<style scoped>\n",
       "    .dataframe tbody tr th:only-of-type {\n",
       "        vertical-align: middle;\n",
       "    }\n",
       "\n",
       "    .dataframe tbody tr th {\n",
       "        vertical-align: top;\n",
       "    }\n",
       "\n",
       "    .dataframe thead th {\n",
       "        text-align: right;\n",
       "    }\n",
       "</style>\n",
       "<table border=\"1\" class=\"dataframe\">\n",
       "  <thead>\n",
       "    <tr style=\"text-align: right;\">\n",
       "      <th></th>\n",
       "      <th>date</th>\n",
       "      <th>incidents</th>\n",
       "      <th>Precip</th>\n",
       "    </tr>\n",
       "  </thead>\n",
       "  <tbody>\n",
       "    <tr>\n",
       "      <th>4</th>\n",
       "      <td>2008-01-05</td>\n",
       "      <td>431</td>\n",
       "      <td>22.4</td>\n",
       "    </tr>\n",
       "    <tr>\n",
       "      <th>22</th>\n",
       "      <td>2008-01-23</td>\n",
       "      <td>420</td>\n",
       "      <td>17.3</td>\n",
       "    </tr>\n",
       "    <tr>\n",
       "      <th>26</th>\n",
       "      <td>2008-01-27</td>\n",
       "      <td>423</td>\n",
       "      <td>10.2</td>\n",
       "    </tr>\n",
       "    <tr>\n",
       "      <th>52</th>\n",
       "      <td>2008-02-22</td>\n",
       "      <td>600</td>\n",
       "      <td>11.4</td>\n",
       "    </tr>\n",
       "    <tr>\n",
       "      <th>330</th>\n",
       "      <td>2008-11-26</td>\n",
       "      <td>495</td>\n",
       "      <td>26.7</td>\n",
       "    </tr>\n",
       "  </tbody>\n",
       "</table>\n",
       "</div>"
      ],
      "text/plain": [
       "           date  incidents  Precip\n",
       "4    2008-01-05        431    22.4\n",
       "22   2008-01-23        420    17.3\n",
       "26   2008-01-27        423    10.2\n",
       "52   2008-02-22        600    11.4\n",
       "330  2008-11-26        495    26.7"
      ]
     },
     "execution_count": 29,
     "metadata": {},
     "output_type": "execute_result"
    }
   ],
   "source": [
    "rain_holidays= crime_rain.loc[(crime_rain['Precip'] >= 10)] \n",
    "\n",
    "rain_holidays.head()"
   ]
  },
  {
   "cell_type": "code",
   "execution_count": 30,
   "metadata": {
    "colab": {
     "base_uri": "https://localhost:8080/",
     "height": 629
    },
    "colab_type": "code",
    "executionInfo": {
     "elapsed": 490,
     "status": "ok",
     "timestamp": 1553377392834,
     "user": {
      "displayName": "Kelly Hwang",
      "photoUrl": "https://lh5.googleusercontent.com/-Ne4gcnUs-OE/AAAAAAAAAAI/AAAAAAAAHpw/uKs_wg0THmE/s64/photo.jpg",
      "userId": "02218099254051343349"
     },
     "user_tz": 420
    },
    "id": "DDZftZ7b_vLg",
    "outputId": "914314bc-6567-4f0f-8e95-2420e1cda982"
   },
   "outputs": [
    {
     "data": {
      "text/plain": [
       "['2008-01-05',\n",
       " '2008-01-23',\n",
       " '2008-01-27',\n",
       " '2008-02-22',\n",
       " '2008-11-26',\n",
       " '2008-11-27',\n",
       " '2008-12-15',\n",
       " '2008-12-17',\n",
       " '2009-02-07',\n",
       " '2009-12-07',\n",
       " '2009-12-13',\n",
       " '2010-01-18',\n",
       " '2010-01-19',\n",
       " '2010-01-20',\n",
       " '2010-01-21',\n",
       " '2010-02-06',\n",
       " '2010-02-27',\n",
       " '2010-03-07',\n",
       " '2010-04-01',\n",
       " '2010-04-12',\n",
       " '2010-10-06',\n",
       " '2010-10-19',\n",
       " '2010-11-20',\n",
       " '2010-12-21',\n",
       " '2010-12-22',\n",
       " '2010-12-29',\n",
       " '2011-02-18',\n",
       " '2011-02-26',\n",
       " '2011-03-20',\n",
       " '2011-10-05',\n",
       " '2011-11-04',\n",
       " '2011-11-12',\n",
       " '2011-11-20',\n",
       " '2011-12-12',\n",
       " '2012-10-12',\n",
       " '2012-12-13']"
      ]
     },
     "execution_count": 30,
     "metadata": {},
     "output_type": "execute_result"
    }
   ],
   "source": [
    "rain_list = rain_holidays['date'].tolist()\n",
    "rain_list"
   ]
  },
  {
   "cell_type": "code",
   "execution_count": 31,
   "metadata": {
    "colab": {
     "base_uri": "https://localhost:8080/",
     "height": 204
    },
    "colab_type": "code",
    "executionInfo": {
     "elapsed": 404,
     "status": "ok",
     "timestamp": 1553377393077,
     "user": {
      "displayName": "Kelly Hwang",
      "photoUrl": "https://lh5.googleusercontent.com/-Ne4gcnUs-OE/AAAAAAAAAAI/AAAAAAAAHpw/uKs_wg0THmE/s64/photo.jpg",
      "userId": "02218099254051343349"
     },
     "user_tz": 420
    },
    "id": "uIAAN2FG-kBF",
    "outputId": "9537af45-1219-4aa4-a923-1671b6a5beb5"
   },
   "outputs": [
    {
     "data": {
      "text/html": [
       "<div>\n",
       "<style scoped>\n",
       "    .dataframe tbody tr th:only-of-type {\n",
       "        vertical-align: middle;\n",
       "    }\n",
       "\n",
       "    .dataframe tbody tr th {\n",
       "        vertical-align: top;\n",
       "    }\n",
       "\n",
       "    .dataframe thead th {\n",
       "        text-align: right;\n",
       "    }\n",
       "</style>\n",
       "<table border=\"1\" class=\"dataframe\">\n",
       "  <thead>\n",
       "    <tr style=\"text-align: right;\">\n",
       "      <th></th>\n",
       "      <th>holiday</th>\n",
       "      <th>ds</th>\n",
       "      <th>lower_window</th>\n",
       "      <th>upper_window</th>\n",
       "    </tr>\n",
       "  </thead>\n",
       "  <tbody>\n",
       "    <tr>\n",
       "      <th>0</th>\n",
       "      <td>rain</td>\n",
       "      <td>2008-01-05</td>\n",
       "      <td>0</td>\n",
       "      <td>1</td>\n",
       "    </tr>\n",
       "    <tr>\n",
       "      <th>1</th>\n",
       "      <td>rain</td>\n",
       "      <td>2008-01-23</td>\n",
       "      <td>0</td>\n",
       "      <td>1</td>\n",
       "    </tr>\n",
       "    <tr>\n",
       "      <th>2</th>\n",
       "      <td>rain</td>\n",
       "      <td>2008-01-27</td>\n",
       "      <td>0</td>\n",
       "      <td>1</td>\n",
       "    </tr>\n",
       "    <tr>\n",
       "      <th>3</th>\n",
       "      <td>rain</td>\n",
       "      <td>2008-02-22</td>\n",
       "      <td>0</td>\n",
       "      <td>1</td>\n",
       "    </tr>\n",
       "    <tr>\n",
       "      <th>4</th>\n",
       "      <td>rain</td>\n",
       "      <td>2008-11-26</td>\n",
       "      <td>0</td>\n",
       "      <td>1</td>\n",
       "    </tr>\n",
       "  </tbody>\n",
       "</table>\n",
       "</div>"
      ],
      "text/plain": [
       "  holiday         ds  lower_window  upper_window\n",
       "0    rain 2008-01-05             0             1\n",
       "1    rain 2008-01-23             0             1\n",
       "2    rain 2008-01-27             0             1\n",
       "3    rain 2008-02-22             0             1\n",
       "4    rain 2008-11-26             0             1"
      ]
     },
     "execution_count": 31,
     "metadata": {},
     "output_type": "execute_result"
    }
   ],
   "source": [
    "holidays = pd.DataFrame({\n",
    "  'holiday': 'rain',\n",
    "  'ds': pd.to_datetime(rain_list),\n",
    "  'lower_window': 0,\n",
    "  'upper_window': 1,\n",
    "})\n",
    "holidays.head()"
   ]
  },
  {
   "cell_type": "code",
   "execution_count": 32,
   "metadata": {
    "colab": {},
    "colab_type": "code",
    "id": "hGnESst-gGDl"
   },
   "outputs": [],
   "source": [
    "#if you run into an error here, try to run the following install:\n",
    "#!pip install pandas --upgrade"
   ]
  },
  {
   "cell_type": "code",
   "execution_count": 33,
   "metadata": {
    "colab": {
     "base_uri": "https://localhost:8080/",
     "height": 88
    },
    "colab_type": "code",
    "executionInfo": {
     "elapsed": 8187,
     "status": "ok",
     "timestamp": 1553377406882,
     "user": {
      "displayName": "Kelly Hwang",
      "photoUrl": "https://lh5.googleusercontent.com/-Ne4gcnUs-OE/AAAAAAAAAAI/AAAAAAAAHpw/uKs_wg0THmE/s64/photo.jpg",
      "userId": "02218099254051343349"
     },
     "user_tz": 420
    },
    "id": "ajpgVVO2Au5y",
    "outputId": "befe213a-57b1-4c04-c0af-1b75b798347b"
   },
   "outputs": [
    {
     "name": "stderr",
     "output_type": "stream",
     "text": [
      "INFO:fbprophet:Disabling daily seasonality. Run prophet with daily_seasonality=True to override this.\n"
     ]
    }
   ],
   "source": [
    "# create new prophet model with rain as holidays\n",
    "\n",
    "m2 = Prophet(holidays=holidays)\n",
    "forecast2 = m2.fit(sd_crime).predict(future)\n",
    "\n"
   ]
  },
  {
   "cell_type": "code",
   "execution_count": 34,
   "metadata": {
    "colab": {
     "base_uri": "https://localhost:8080/",
     "height": 309
    },
    "colab_type": "code",
    "executionInfo": {
     "elapsed": 483,
     "status": "ok",
     "timestamp": 1553377422055,
     "user": {
      "displayName": "Kelly Hwang",
      "photoUrl": "https://lh5.googleusercontent.com/-Ne4gcnUs-OE/AAAAAAAAAAI/AAAAAAAAHpw/uKs_wg0THmE/s64/photo.jpg",
      "userId": "02218099254051343349"
     },
     "user_tz": 420
    },
    "id": "RDSXg20bFNW8",
    "outputId": "ee9bfd2b-aa2a-4c25-8a30-1b9469d9b1a8"
   },
   "outputs": [
    {
     "data": {
      "text/html": [
       "<div>\n",
       "<style scoped>\n",
       "    .dataframe tbody tr th:only-of-type {\n",
       "        vertical-align: middle;\n",
       "    }\n",
       "\n",
       "    .dataframe tbody tr th {\n",
       "        vertical-align: top;\n",
       "    }\n",
       "\n",
       "    .dataframe thead th {\n",
       "        text-align: right;\n",
       "    }\n",
       "</style>\n",
       "<table border=\"1\" class=\"dataframe\">\n",
       "  <thead>\n",
       "    <tr style=\"text-align: right;\">\n",
       "      <th></th>\n",
       "      <th>ds</th>\n",
       "      <th>trend</th>\n",
       "      <th>yhat_lower</th>\n",
       "      <th>yhat_upper</th>\n",
       "      <th>trend_lower</th>\n",
       "      <th>trend_upper</th>\n",
       "      <th>additive_terms</th>\n",
       "      <th>additive_terms_lower</th>\n",
       "      <th>additive_terms_upper</th>\n",
       "      <th>weekly</th>\n",
       "      <th>weekly_lower</th>\n",
       "      <th>weekly_upper</th>\n",
       "      <th>yearly</th>\n",
       "      <th>yearly_lower</th>\n",
       "      <th>yearly_upper</th>\n",
       "      <th>multiplicative_terms</th>\n",
       "      <th>multiplicative_terms_lower</th>\n",
       "      <th>multiplicative_terms_upper</th>\n",
       "      <th>yhat</th>\n",
       "    </tr>\n",
       "  </thead>\n",
       "  <tbody>\n",
       "    <tr>\n",
       "      <th>0</th>\n",
       "      <td>2008-01-01</td>\n",
       "      <td>504.309204</td>\n",
       "      <td>397.465658</td>\n",
       "      <td>502.634807</td>\n",
       "      <td>504.309204</td>\n",
       "      <td>504.309204</td>\n",
       "      <td>-52.230086</td>\n",
       "      <td>-52.230086</td>\n",
       "      <td>-52.230086</td>\n",
       "      <td>-24.182061</td>\n",
       "      <td>-24.182061</td>\n",
       "      <td>-24.182061</td>\n",
       "      <td>-28.048025</td>\n",
       "      <td>-28.048025</td>\n",
       "      <td>-28.048025</td>\n",
       "      <td>0.0</td>\n",
       "      <td>0.0</td>\n",
       "      <td>0.0</td>\n",
       "      <td>452.079118</td>\n",
       "    </tr>\n",
       "    <tr>\n",
       "      <th>1</th>\n",
       "      <td>2008-01-02</td>\n",
       "      <td>504.292329</td>\n",
       "      <td>406.155843</td>\n",
       "      <td>505.917845</td>\n",
       "      <td>504.292329</td>\n",
       "      <td>504.292329</td>\n",
       "      <td>-46.691450</td>\n",
       "      <td>-46.691450</td>\n",
       "      <td>-46.691450</td>\n",
       "      <td>-19.040392</td>\n",
       "      <td>-19.040392</td>\n",
       "      <td>-19.040392</td>\n",
       "      <td>-27.651058</td>\n",
       "      <td>-27.651058</td>\n",
       "      <td>-27.651058</td>\n",
       "      <td>0.0</td>\n",
       "      <td>0.0</td>\n",
       "      <td>0.0</td>\n",
       "      <td>457.600879</td>\n",
       "    </tr>\n",
       "    <tr>\n",
       "      <th>2</th>\n",
       "      <td>2008-01-03</td>\n",
       "      <td>504.275454</td>\n",
       "      <td>415.642819</td>\n",
       "      <td>520.766668</td>\n",
       "      <td>504.275454</td>\n",
       "      <td>504.275454</td>\n",
       "      <td>-34.828720</td>\n",
       "      <td>-34.828720</td>\n",
       "      <td>-34.828720</td>\n",
       "      <td>-7.764842</td>\n",
       "      <td>-7.764842</td>\n",
       "      <td>-7.764842</td>\n",
       "      <td>-27.063879</td>\n",
       "      <td>-27.063879</td>\n",
       "      <td>-27.063879</td>\n",
       "      <td>0.0</td>\n",
       "      <td>0.0</td>\n",
       "      <td>0.0</td>\n",
       "      <td>469.446734</td>\n",
       "    </tr>\n",
       "    <tr>\n",
       "      <th>3</th>\n",
       "      <td>2008-01-04</td>\n",
       "      <td>504.258579</td>\n",
       "      <td>487.561774</td>\n",
       "      <td>591.879633</td>\n",
       "      <td>504.258579</td>\n",
       "      <td>504.258579</td>\n",
       "      <td>35.889077</td>\n",
       "      <td>35.889077</td>\n",
       "      <td>35.889077</td>\n",
       "      <td>62.184964</td>\n",
       "      <td>62.184964</td>\n",
       "      <td>62.184964</td>\n",
       "      <td>-26.295887</td>\n",
       "      <td>-26.295887</td>\n",
       "      <td>-26.295887</td>\n",
       "      <td>0.0</td>\n",
       "      <td>0.0</td>\n",
       "      <td>0.0</td>\n",
       "      <td>540.147656</td>\n",
       "    </tr>\n",
       "    <tr>\n",
       "      <th>4</th>\n",
       "      <td>2008-01-05</td>\n",
       "      <td>504.241705</td>\n",
       "      <td>469.218452</td>\n",
       "      <td>573.404505</td>\n",
       "      <td>504.241705</td>\n",
       "      <td>504.241705</td>\n",
       "      <td>16.652298</td>\n",
       "      <td>16.652298</td>\n",
       "      <td>16.652298</td>\n",
       "      <td>42.011855</td>\n",
       "      <td>42.011855</td>\n",
       "      <td>42.011855</td>\n",
       "      <td>-25.359557</td>\n",
       "      <td>-25.359557</td>\n",
       "      <td>-25.359557</td>\n",
       "      <td>0.0</td>\n",
       "      <td>0.0</td>\n",
       "      <td>0.0</td>\n",
       "      <td>520.894003</td>\n",
       "    </tr>\n",
       "  </tbody>\n",
       "</table>\n",
       "</div>"
      ],
      "text/plain": [
       "          ds       trend  yhat_lower  yhat_upper  trend_lower  trend_upper  \\\n",
       "0 2008-01-01  504.309204  397.465658  502.634807   504.309204   504.309204   \n",
       "1 2008-01-02  504.292329  406.155843  505.917845   504.292329   504.292329   \n",
       "2 2008-01-03  504.275454  415.642819  520.766668   504.275454   504.275454   \n",
       "3 2008-01-04  504.258579  487.561774  591.879633   504.258579   504.258579   \n",
       "4 2008-01-05  504.241705  469.218452  573.404505   504.241705   504.241705   \n",
       "\n",
       "   additive_terms  additive_terms_lower  additive_terms_upper     weekly  \\\n",
       "0      -52.230086            -52.230086            -52.230086 -24.182061   \n",
       "1      -46.691450            -46.691450            -46.691450 -19.040392   \n",
       "2      -34.828720            -34.828720            -34.828720  -7.764842   \n",
       "3       35.889077             35.889077             35.889077  62.184964   \n",
       "4       16.652298             16.652298             16.652298  42.011855   \n",
       "\n",
       "   weekly_lower  weekly_upper     yearly  yearly_lower  yearly_upper  \\\n",
       "0    -24.182061    -24.182061 -28.048025    -28.048025    -28.048025   \n",
       "1    -19.040392    -19.040392 -27.651058    -27.651058    -27.651058   \n",
       "2     -7.764842     -7.764842 -27.063879    -27.063879    -27.063879   \n",
       "3     62.184964     62.184964 -26.295887    -26.295887    -26.295887   \n",
       "4     42.011855     42.011855 -25.359557    -25.359557    -25.359557   \n",
       "\n",
       "   multiplicative_terms  multiplicative_terms_lower  \\\n",
       "0                   0.0                         0.0   \n",
       "1                   0.0                         0.0   \n",
       "2                   0.0                         0.0   \n",
       "3                   0.0                         0.0   \n",
       "4                   0.0                         0.0   \n",
       "\n",
       "   multiplicative_terms_upper        yhat  \n",
       "0                         0.0  452.079118  \n",
       "1                         0.0  457.600879  \n",
       "2                         0.0  469.446734  \n",
       "3                         0.0  540.147656  \n",
       "4                         0.0  520.894003  "
      ]
     },
     "execution_count": 34,
     "metadata": {},
     "output_type": "execute_result"
    }
   ],
   "source": [
    "forecast.head()"
   ]
  },
  {
   "cell_type": "code",
   "execution_count": 35,
   "metadata": {
    "colab": {
     "base_uri": "https://localhost:8080/",
     "height": 359
    },
    "colab_type": "code",
    "executionInfo": {
     "elapsed": 455,
     "status": "ok",
     "timestamp": 1553377423651,
     "user": {
      "displayName": "Kelly Hwang",
      "photoUrl": "https://lh5.googleusercontent.com/-Ne4gcnUs-OE/AAAAAAAAAAI/AAAAAAAAHpw/uKs_wg0THmE/s64/photo.jpg",
      "userId": "02218099254051343349"
     },
     "user_tz": 420
    },
    "id": "HWdXQdpQDrT9",
    "outputId": "c5a8fa3e-041d-488d-d4ab-31c4b1c026c1"
   },
   "outputs": [
    {
     "data": {
      "text/html": [
       "<div>\n",
       "<style scoped>\n",
       "    .dataframe tbody tr th:only-of-type {\n",
       "        vertical-align: middle;\n",
       "    }\n",
       "\n",
       "    .dataframe tbody tr th {\n",
       "        vertical-align: top;\n",
       "    }\n",
       "\n",
       "    .dataframe thead th {\n",
       "        text-align: right;\n",
       "    }\n",
       "</style>\n",
       "<table border=\"1\" class=\"dataframe\">\n",
       "  <thead>\n",
       "    <tr style=\"text-align: right;\">\n",
       "      <th></th>\n",
       "      <th>ds</th>\n",
       "      <th>holidays</th>\n",
       "    </tr>\n",
       "  </thead>\n",
       "  <tbody>\n",
       "    <tr>\n",
       "      <th>1411</th>\n",
       "      <td>2011-11-12</td>\n",
       "      <td>-34.469084</td>\n",
       "    </tr>\n",
       "    <tr>\n",
       "      <th>1412</th>\n",
       "      <td>2011-11-13</td>\n",
       "      <td>-14.834497</td>\n",
       "    </tr>\n",
       "    <tr>\n",
       "      <th>1419</th>\n",
       "      <td>2011-11-20</td>\n",
       "      <td>-34.469084</td>\n",
       "    </tr>\n",
       "    <tr>\n",
       "      <th>1420</th>\n",
       "      <td>2011-11-21</td>\n",
       "      <td>-14.834497</td>\n",
       "    </tr>\n",
       "    <tr>\n",
       "      <th>1441</th>\n",
       "      <td>2011-12-12</td>\n",
       "      <td>-34.469084</td>\n",
       "    </tr>\n",
       "    <tr>\n",
       "      <th>1442</th>\n",
       "      <td>2011-12-13</td>\n",
       "      <td>-14.834497</td>\n",
       "    </tr>\n",
       "    <tr>\n",
       "      <th>1746</th>\n",
       "      <td>2012-10-12</td>\n",
       "      <td>-34.469084</td>\n",
       "    </tr>\n",
       "    <tr>\n",
       "      <th>1747</th>\n",
       "      <td>2012-10-13</td>\n",
       "      <td>-14.834497</td>\n",
       "    </tr>\n",
       "    <tr>\n",
       "      <th>1808</th>\n",
       "      <td>2012-12-13</td>\n",
       "      <td>-34.469084</td>\n",
       "    </tr>\n",
       "    <tr>\n",
       "      <th>1809</th>\n",
       "      <td>2012-12-14</td>\n",
       "      <td>-14.834497</td>\n",
       "    </tr>\n",
       "  </tbody>\n",
       "</table>\n",
       "</div>"
      ],
      "text/plain": [
       "             ds   holidays\n",
       "1411 2011-11-12 -34.469084\n",
       "1412 2011-11-13 -14.834497\n",
       "1419 2011-11-20 -34.469084\n",
       "1420 2011-11-21 -14.834497\n",
       "1441 2011-12-12 -34.469084\n",
       "1442 2011-12-13 -14.834497\n",
       "1746 2012-10-12 -34.469084\n",
       "1747 2012-10-13 -14.834497\n",
       "1808 2012-12-13 -34.469084\n",
       "1809 2012-12-14 -14.834497"
      ]
     },
     "execution_count": 35,
     "metadata": {},
     "output_type": "execute_result"
    }
   ],
   "source": [
    "# filter forecast results to only days where 'holiday' makes impact\n",
    "forecast2[(forecast2['holidays']).abs()>0][\n",
    "    ['ds','holidays']][-10:]\n"
   ]
  },
  {
   "cell_type": "code",
   "execution_count": 36,
   "metadata": {
    "colab": {
     "base_uri": "https://localhost:8080/",
     "height": 869
    },
    "colab_type": "code",
    "executionInfo": {
     "elapsed": 2118,
     "status": "ok",
     "timestamp": 1553377426687,
     "user": {
      "displayName": "Kelly Hwang",
      "photoUrl": "https://lh5.googleusercontent.com/-Ne4gcnUs-OE/AAAAAAAAAAI/AAAAAAAAHpw/uKs_wg0THmE/s64/photo.jpg",
      "userId": "02218099254051343349"
     },
     "user_tz": 420
    },
    "id": "TtiubDbWAx4Q",
    "outputId": "428be549-b4b7-4d32-f33e-5e77744e614b"
   },
   "outputs": [
    {
     "data": {
      "image/png": "[encoded data removed]",
      "text/plain": [
       "<Figure size 648x864 with 4 Axes>"
      ]
     },
     "metadata": {},
     "output_type": "display_data"
    }
   ],
   "source": [
    "fig2 = m2.plot_components(forecast2)\n"
   ]
  },
  {
   "cell_type": "code",
   "execution_count": 37,
   "metadata": {
    "colab": {
     "base_uri": "https://localhost:8080/",
     "height": 204
    },
    "colab_type": "code",
    "executionInfo": {
     "elapsed": 452,
     "status": "ok",
     "timestamp": 1553377428672,
     "user": {
      "displayName": "Kelly Hwang",
      "photoUrl": "https://lh5.googleusercontent.com/-Ne4gcnUs-OE/AAAAAAAAAAI/AAAAAAAAHpw/uKs_wg0THmE/s64/photo.jpg",
      "userId": "02218099254051343349"
     },
     "user_tz": 420
    },
    "id": "d0SGXMfRHQOG",
    "outputId": "c6734f11-0f28-4f45-ea51-45c84f60f7f8"
   },
   "outputs": [
    {
     "data": {
      "text/html": [
       "<div>\n",
       "<style scoped>\n",
       "    .dataframe tbody tr th:only-of-type {\n",
       "        vertical-align: middle;\n",
       "    }\n",
       "\n",
       "    .dataframe tbody tr th {\n",
       "        vertical-align: top;\n",
       "    }\n",
       "\n",
       "    .dataframe thead th {\n",
       "        text-align: right;\n",
       "    }\n",
       "</style>\n",
       "<table border=\"1\" class=\"dataframe\">\n",
       "  <thead>\n",
       "    <tr style=\"text-align: right;\">\n",
       "      <th></th>\n",
       "      <th>date</th>\n",
       "      <th>incidents</th>\n",
       "      <th>TMax</th>\n",
       "    </tr>\n",
       "  </thead>\n",
       "  <tbody>\n",
       "    <tr>\n",
       "      <th>39</th>\n",
       "      <td>2008-02-09</td>\n",
       "      <td>593</td>\n",
       "      <td>25.0</td>\n",
       "    </tr>\n",
       "    <tr>\n",
       "      <th>69</th>\n",
       "      <td>2008-03-10</td>\n",
       "      <td>435</td>\n",
       "      <td>25.6</td>\n",
       "    </tr>\n",
       "    <tr>\n",
       "      <th>82</th>\n",
       "      <td>2008-03-23</td>\n",
       "      <td>429</td>\n",
       "      <td>27.2</td>\n",
       "    </tr>\n",
       "    <tr>\n",
       "      <th>83</th>\n",
       "      <td>2008-03-24</td>\n",
       "      <td>484</td>\n",
       "      <td>26.1</td>\n",
       "    </tr>\n",
       "    <tr>\n",
       "      <th>102</th>\n",
       "      <td>2008-04-12</td>\n",
       "      <td>479</td>\n",
       "      <td>30.6</td>\n",
       "    </tr>\n",
       "  </tbody>\n",
       "</table>\n",
       "</div>"
      ],
      "text/plain": [
       "           date  incidents  TMax\n",
       "39   2008-02-09        593  25.0\n",
       "69   2008-03-10        435  25.6\n",
       "82   2008-03-23        429  27.2\n",
       "83   2008-03-24        484  26.1\n",
       "102  2008-04-12        479  30.6"
      ]
     },
     "execution_count": 37,
     "metadata": {},
     "output_type": "execute_result"
    }
   ],
   "source": [
    "temp_holidays= crime_temp.loc[(crime_temp['TMax'] >= 25)] \n",
    "\n",
    "temp_holidays.head()\n"
   ]
  },
  {
   "cell_type": "code",
   "execution_count": 38,
   "metadata": {
    "colab": {},
    "colab_type": "code",
    "id": "bCArlApwIDir"
   },
   "outputs": [],
   "source": [
    "temp_list = temp_holidays['date'].tolist()\n",
    "#temp_list\n"
   ]
  },
  {
   "cell_type": "code",
   "execution_count": 39,
   "metadata": {
    "colab": {
     "base_uri": "https://localhost:8080/",
     "height": 204
    },
    "colab_type": "code",
    "executionInfo": {
     "elapsed": 461,
     "status": "ok",
     "timestamp": 1553377431792,
     "user": {
      "displayName": "Kelly Hwang",
      "photoUrl": "https://lh5.googleusercontent.com/-Ne4gcnUs-OE/AAAAAAAAAAI/AAAAAAAAHpw/uKs_wg0THmE/s64/photo.jpg",
      "userId": "02218099254051343349"
     },
     "user_tz": 420
    },
    "id": "OA38kMkaIHQa",
    "outputId": "8d3556e8-78ce-447e-e49c-91f88beb357f"
   },
   "outputs": [
    {
     "data": {
      "text/html": [
       "<div>\n",
       "<style scoped>\n",
       "    .dataframe tbody tr th:only-of-type {\n",
       "        vertical-align: middle;\n",
       "    }\n",
       "\n",
       "    .dataframe tbody tr th {\n",
       "        vertical-align: top;\n",
       "    }\n",
       "\n",
       "    .dataframe thead th {\n",
       "        text-align: right;\n",
       "    }\n",
       "</style>\n",
       "<table border=\"1\" class=\"dataframe\">\n",
       "  <thead>\n",
       "    <tr style=\"text-align: right;\">\n",
       "      <th></th>\n",
       "      <th>holiday</th>\n",
       "      <th>ds</th>\n",
       "      <th>lower_window</th>\n",
       "      <th>upper_window</th>\n",
       "    </tr>\n",
       "  </thead>\n",
       "  <tbody>\n",
       "    <tr>\n",
       "      <th>0</th>\n",
       "      <td>hot_day</td>\n",
       "      <td>2008-02-09</td>\n",
       "      <td>0</td>\n",
       "      <td>1</td>\n",
       "    </tr>\n",
       "    <tr>\n",
       "      <th>1</th>\n",
       "      <td>hot_day</td>\n",
       "      <td>2008-03-10</td>\n",
       "      <td>0</td>\n",
       "      <td>1</td>\n",
       "    </tr>\n",
       "    <tr>\n",
       "      <th>2</th>\n",
       "      <td>hot_day</td>\n",
       "      <td>2008-03-23</td>\n",
       "      <td>0</td>\n",
       "      <td>1</td>\n",
       "    </tr>\n",
       "    <tr>\n",
       "      <th>3</th>\n",
       "      <td>hot_day</td>\n",
       "      <td>2008-03-24</td>\n",
       "      <td>0</td>\n",
       "      <td>1</td>\n",
       "    </tr>\n",
       "    <tr>\n",
       "      <th>4</th>\n",
       "      <td>hot_day</td>\n",
       "      <td>2008-04-12</td>\n",
       "      <td>0</td>\n",
       "      <td>1</td>\n",
       "    </tr>\n",
       "  </tbody>\n",
       "</table>\n",
       "</div>"
      ],
      "text/plain": [
       "   holiday         ds  lower_window  upper_window\n",
       "0  hot_day 2008-02-09             0             1\n",
       "1  hot_day 2008-03-10             0             1\n",
       "2  hot_day 2008-03-23             0             1\n",
       "3  hot_day 2008-03-24             0             1\n",
       "4  hot_day 2008-04-12             0             1"
      ]
     },
     "execution_count": 39,
     "metadata": {},
     "output_type": "execute_result"
    }
   ],
   "source": [
    "holidays = pd.DataFrame({\n",
    "  'holiday': 'hot_day',\n",
    "  'ds': pd.to_datetime(temp_list),\n",
    "  'lower_window': 0,\n",
    "  'upper_window': 1,\n",
    "})\n",
    "holidays.head()"
   ]
  },
  {
   "cell_type": "code",
   "execution_count": 40,
   "metadata": {
    "colab": {
     "base_uri": "https://localhost:8080/",
     "height": 88
    },
    "colab_type": "code",
    "executionInfo": {
     "elapsed": 8412,
     "status": "ok",
     "timestamp": 1553377441173,
     "user": {
      "displayName": "Kelly Hwang",
      "photoUrl": "https://lh5.googleusercontent.com/-Ne4gcnUs-OE/AAAAAAAAAAI/AAAAAAAAHpw/uKs_wg0THmE/s64/photo.jpg",
      "userId": "02218099254051343349"
     },
     "user_tz": 420
    },
    "id": "MbUtZncEIRdt",
    "outputId": "bae85555-941a-4497-ce24-cd89dbe4a425"
   },
   "outputs": [
    {
     "name": "stderr",
     "output_type": "stream",
     "text": [
      "INFO:fbprophet:Disabling daily seasonality. Run prophet with daily_seasonality=True to override this.\n"
     ]
    }
   ],
   "source": [
    "# create new prophet model with rain as holidays\n",
    "\n",
    "m3 = Prophet(holidays=holidays)\n",
    "forecast3 = m3.fit(sd_crime).predict(future)"
   ]
  },
  {
   "cell_type": "code",
   "execution_count": 41,
   "metadata": {
    "colab": {
     "base_uri": "https://localhost:8080/",
     "height": 359
    },
    "colab_type": "code",
    "executionInfo": {
     "elapsed": 1542,
     "status": "ok",
     "timestamp": 1553377441174,
     "user": {
      "displayName": "Kelly Hwang",
      "photoUrl": "https://lh5.googleusercontent.com/-Ne4gcnUs-OE/AAAAAAAAAAI/AAAAAAAAHpw/uKs_wg0THmE/s64/photo.jpg",
      "userId": "02218099254051343349"
     },
     "user_tz": 420
    },
    "id": "YRR9Yv2GH658",
    "outputId": "0e582ecd-16bb-48e8-d6fe-ea066149eaf8"
   },
   "outputs": [
    {
     "data": {
      "text/html": [
       "<div>\n",
       "<style scoped>\n",
       "    .dataframe tbody tr th:only-of-type {\n",
       "        vertical-align: middle;\n",
       "    }\n",
       "\n",
       "    .dataframe tbody tr th {\n",
       "        vertical-align: top;\n",
       "    }\n",
       "\n",
       "    .dataframe thead th {\n",
       "        text-align: right;\n",
       "    }\n",
       "</style>\n",
       "<table border=\"1\" class=\"dataframe\">\n",
       "  <thead>\n",
       "    <tr style=\"text-align: right;\">\n",
       "      <th></th>\n",
       "      <th>ds</th>\n",
       "      <th>holidays</th>\n",
       "    </tr>\n",
       "  </thead>\n",
       "  <tbody>\n",
       "    <tr>\n",
       "      <th>1750</th>\n",
       "      <td>2012-10-16</td>\n",
       "      <td>8.740902</td>\n",
       "    </tr>\n",
       "    <tr>\n",
       "      <th>1751</th>\n",
       "      <td>2012-10-17</td>\n",
       "      <td>8.740902</td>\n",
       "    </tr>\n",
       "    <tr>\n",
       "      <th>1752</th>\n",
       "      <td>2012-10-18</td>\n",
       "      <td>1.221010</td>\n",
       "    </tr>\n",
       "    <tr>\n",
       "      <th>1760</th>\n",
       "      <td>2012-10-26</td>\n",
       "      <td>7.519892</td>\n",
       "    </tr>\n",
       "    <tr>\n",
       "      <th>1761</th>\n",
       "      <td>2012-10-27</td>\n",
       "      <td>8.740902</td>\n",
       "    </tr>\n",
       "    <tr>\n",
       "      <th>1762</th>\n",
       "      <td>2012-10-28</td>\n",
       "      <td>8.740902</td>\n",
       "    </tr>\n",
       "    <tr>\n",
       "      <th>1763</th>\n",
       "      <td>2012-10-29</td>\n",
       "      <td>1.221010</td>\n",
       "    </tr>\n",
       "    <tr>\n",
       "      <th>1769</th>\n",
       "      <td>2012-11-04</td>\n",
       "      <td>7.519892</td>\n",
       "    </tr>\n",
       "    <tr>\n",
       "      <th>1770</th>\n",
       "      <td>2012-11-05</td>\n",
       "      <td>8.740902</td>\n",
       "    </tr>\n",
       "    <tr>\n",
       "      <th>1771</th>\n",
       "      <td>2012-11-06</td>\n",
       "      <td>1.221010</td>\n",
       "    </tr>\n",
       "  </tbody>\n",
       "</table>\n",
       "</div>"
      ],
      "text/plain": [
       "             ds  holidays\n",
       "1750 2012-10-16  8.740902\n",
       "1751 2012-10-17  8.740902\n",
       "1752 2012-10-18  1.221010\n",
       "1760 2012-10-26  7.519892\n",
       "1761 2012-10-27  8.740902\n",
       "1762 2012-10-28  8.740902\n",
       "1763 2012-10-29  1.221010\n",
       "1769 2012-11-04  7.519892\n",
       "1770 2012-11-05  8.740902\n",
       "1771 2012-11-06  1.221010"
      ]
     },
     "execution_count": 41,
     "metadata": {},
     "output_type": "execute_result"
    }
   ],
   "source": [
    "# filter forecast results to only days where 'holiday' makes impact\n",
    "forecast3[(forecast3['holidays']).abs()>0][\n",
    "    ['ds','holidays']][-10:]"
   ]
  },
  {
   "cell_type": "code",
   "execution_count": 42,
   "metadata": {
    "colab": {
     "base_uri": "https://localhost:8080/",
     "height": 869
    },
    "colab_type": "code",
    "executionInfo": {
     "elapsed": 3120,
     "status": "ok",
     "timestamp": 1553377443164,
     "user": {
      "displayName": "Kelly Hwang",
      "photoUrl": "https://lh5.googleusercontent.com/-Ne4gcnUs-OE/AAAAAAAAAAI/AAAAAAAAHpw/uKs_wg0THmE/s64/photo.jpg",
      "userId": "02218099254051343349"
     },
     "user_tz": 420
    },
    "id": "EYrCwMHtH9dQ",
    "outputId": "d136f6a3-78cf-4a26-b33d-43f0f1aa667b"
   },
   "outputs": [
    {
     "data": {
      "image/png": "[encoded data removed]",
      "text/plain": [
       "<Figure size 648x864 with 4 Axes>"
      ]
     },
     "metadata": {},
     "output_type": "display_data"
    }
   ],
   "source": [
    "fig3 = m3.plot_components(forecast3)"
   ]
  },
  {
   "cell_type": "code",
   "execution_count": 43,
   "metadata": {
    "colab": {
     "base_uri": "https://localhost:8080/",
     "height": 232
    },
    "colab_type": "code",
    "executionInfo": {
     "elapsed": 441,
     "status": "error",
     "timestamp": 1553570450530,
     "user": {
      "displayName": "Kelly Hwang",
      "photoUrl": "https://lh5.googleusercontent.com/-Ne4gcnUs-OE/AAAAAAAAAAI/AAAAAAAAHpw/uKs_wg0THmE/s64/photo.jpg",
      "userId": "02218099254051343349"
     },
     "user_tz": 420
    },
    "id": "CrJ3KnXDI6CJ",
    "outputId": "6a9cc10b-23e8-4061-bcb5-1a747ff8c84b"
   },
   "outputs": [],
   "source": [
    "rain = pd.DataFrame({\n",
    "  'holiday': 'rain',\n",
    "  'ds': pd.to_datetime(rain_list),\n",
    "  'lower_window': 0,\n",
    "  'upper_window': 1,\n",
    "})\n",
    "\n",
    "temp = pd.DataFrame({\n",
    "  'holiday': 'hot_day',\n",
    "  'ds': pd.to_datetime(temp_list),\n",
    "  'lower_window': 0,\n",
    "  'upper_window': 1,\n",
    "})\n",
    "\n",
    "holidays = pd.concat((rain, temp))"
   ]
  },
  {
   "cell_type": "code",
   "execution_count": 44,
   "metadata": {
    "colab": {
     "base_uri": "https://localhost:8080/",
     "height": 88
    },
    "colab_type": "code",
    "executionInfo": {
     "elapsed": 10187,
     "status": "ok",
     "timestamp": 1553377451518,
     "user": {
      "displayName": "Kelly Hwang",
      "photoUrl": "https://lh5.googleusercontent.com/-Ne4gcnUs-OE/AAAAAAAAAAI/AAAAAAAAHpw/uKs_wg0THmE/s64/photo.jpg",
      "userId": "02218099254051343349"
     },
     "user_tz": 420
    },
    "id": "rS6qd3KdJ5v9",
    "outputId": "2ac4259e-66eb-4730-9999-c3d9861e1aa1"
   },
   "outputs": [
    {
     "name": "stderr",
     "output_type": "stream",
     "text": [
      "INFO:fbprophet:Disabling daily seasonality. Run prophet with daily_seasonality=True to override this.\n"
     ]
    }
   ],
   "source": [
    "m4 = Prophet(holidays=holidays)\n",
    "forecast4 = m4.fit(sd_crime).predict(future)"
   ]
  },
  {
   "cell_type": "code",
   "execution_count": 45,
   "metadata": {
    "colab": {
     "base_uri": "https://localhost:8080/",
     "height": 359
    },
    "colab_type": "code",
    "executionInfo": {
     "elapsed": 9538,
     "status": "ok",
     "timestamp": 1553377451519,
     "user": {
      "displayName": "Kelly Hwang",
      "photoUrl": "https://lh5.googleusercontent.com/-Ne4gcnUs-OE/AAAAAAAAAAI/AAAAAAAAHpw/uKs_wg0THmE/s64/photo.jpg",
      "userId": "02218099254051343349"
     },
     "user_tz": 420
    },
    "id": "3E8TGDyRKCKL",
    "outputId": "8084aa0d-1081-462d-fd6f-4b8414802e71"
   },
   "outputs": [
    {
     "data": {
      "text/html": [
       "<div>\n",
       "<style scoped>\n",
       "    .dataframe tbody tr th:only-of-type {\n",
       "        vertical-align: middle;\n",
       "    }\n",
       "\n",
       "    .dataframe tbody tr th {\n",
       "        vertical-align: top;\n",
       "    }\n",
       "\n",
       "    .dataframe thead th {\n",
       "        text-align: right;\n",
       "    }\n",
       "</style>\n",
       "<table border=\"1\" class=\"dataframe\">\n",
       "  <thead>\n",
       "    <tr style=\"text-align: right;\">\n",
       "      <th></th>\n",
       "      <th>ds</th>\n",
       "      <th>holidays</th>\n",
       "    </tr>\n",
       "  </thead>\n",
       "  <tbody>\n",
       "    <tr>\n",
       "      <th>1752</th>\n",
       "      <td>2012-10-18</td>\n",
       "      <td>0.562770</td>\n",
       "    </tr>\n",
       "    <tr>\n",
       "      <th>1760</th>\n",
       "      <td>2012-10-26</td>\n",
       "      <td>6.902159</td>\n",
       "    </tr>\n",
       "    <tr>\n",
       "      <th>1761</th>\n",
       "      <td>2012-10-27</td>\n",
       "      <td>7.464929</td>\n",
       "    </tr>\n",
       "    <tr>\n",
       "      <th>1762</th>\n",
       "      <td>2012-10-28</td>\n",
       "      <td>7.464929</td>\n",
       "    </tr>\n",
       "    <tr>\n",
       "      <th>1763</th>\n",
       "      <td>2012-10-29</td>\n",
       "      <td>0.562770</td>\n",
       "    </tr>\n",
       "    <tr>\n",
       "      <th>1769</th>\n",
       "      <td>2012-11-04</td>\n",
       "      <td>6.902159</td>\n",
       "    </tr>\n",
       "    <tr>\n",
       "      <th>1770</th>\n",
       "      <td>2012-11-05</td>\n",
       "      <td>7.464929</td>\n",
       "    </tr>\n",
       "    <tr>\n",
       "      <th>1771</th>\n",
       "      <td>2012-11-06</td>\n",
       "      <td>0.562770</td>\n",
       "    </tr>\n",
       "    <tr>\n",
       "      <th>1808</th>\n",
       "      <td>2012-12-13</td>\n",
       "      <td>-33.753364</td>\n",
       "    </tr>\n",
       "    <tr>\n",
       "      <th>1809</th>\n",
       "      <td>2012-12-14</td>\n",
       "      <td>-14.258708</td>\n",
       "    </tr>\n",
       "  </tbody>\n",
       "</table>\n",
       "</div>"
      ],
      "text/plain": [
       "             ds   holidays\n",
       "1752 2012-10-18   0.562770\n",
       "1760 2012-10-26   6.902159\n",
       "1761 2012-10-27   7.464929\n",
       "1762 2012-10-28   7.464929\n",
       "1763 2012-10-29   0.562770\n",
       "1769 2012-11-04   6.902159\n",
       "1770 2012-11-05   7.464929\n",
       "1771 2012-11-06   0.562770\n",
       "1808 2012-12-13 -33.753364\n",
       "1809 2012-12-14 -14.258708"
      ]
     },
     "execution_count": 45,
     "metadata": {},
     "output_type": "execute_result"
    }
   ],
   "source": [
    "# filter forecast results to only days where 'holiday' makes impact\n",
    "forecast4[(forecast4['holidays']).abs()>0][\n",
    "    ['ds','holidays']][-10:]"
   ]
  },
  {
   "cell_type": "code",
   "execution_count": 46,
   "metadata": {
    "colab": {
     "base_uri": "https://localhost:8080/",
     "height": 869
    },
    "colab_type": "code",
    "executionInfo": {
     "elapsed": 10947,
     "status": "ok",
     "timestamp": 1553377453652,
     "user": {
      "displayName": "Kelly Hwang",
      "photoUrl": "https://lh5.googleusercontent.com/-Ne4gcnUs-OE/AAAAAAAAAAI/AAAAAAAAHpw/uKs_wg0THmE/s64/photo.jpg",
      "userId": "02218099254051343349"
     },
     "user_tz": 420
    },
    "id": "ZXpxoBbTKHMJ",
    "outputId": "7b70d173-de86-41f8-88a3-c24fe2140f95"
   },
   "outputs": [
    {
     "data": {
      "image/png": "[encoded data removed]",
      "text/plain": [
       "<Figure size 648x864 with 4 Axes>"
      ]
     },
     "metadata": {},
     "output_type": "display_data"
    }
   ],
   "source": [
    "fig4 = m4.plot_components(forecast4)"
   ]
  },
  {
   "cell_type": "code",
   "execution_count": 47,
   "metadata": {},
   "outputs": [
    {
     "data": {
      "text/plain": [
       "40.35303407755114"
      ]
     },
     "execution_count": 47,
     "metadata": {},
     "output_type": "execute_result"
    }
   ],
   "source": [
    "from sklearn.metrics import mean_squared_error\n",
    "from math import sqrt\n",
    "crime_count = sd_crime['y']\n",
    "y_pred = forecast.loc[:, 'yhat']\n",
    "y_pred = y_pred[:1827,]\n",
    "\n",
    "sqrt(mean_squared_error(crime_count, y_pred))"
   ]
  },
  {
   "cell_type": "code",
   "execution_count": 48,
   "metadata": {},
   "outputs": [
    {
     "data": {
      "text/plain": [
       "436.76956759715381"
      ]
     },
     "execution_count": 48,
     "metadata": {},
     "output_type": "execute_result"
    }
   ],
   "source": [
    "crime_count.mean()"
   ]
  },
  {
   "cell_type": "code",
   "execution_count": 49,
   "metadata": {},
   "outputs": [
    {
     "data": {
      "image/png": "[encoded data removed]",
      "text/plain": [
       "<Figure size 432x288 with 1 Axes>"
      ]
     },
     "metadata": {
      "needs_background": "light"
     },
     "output_type": "display_data"
    }
   ],
   "source": [
    "import matplotlib.dates as mpdates\n",
    "error = pd.concat([sd_crime.reset_index(), y_pred], axis=1)\n",
    "pyplot.plot(error.ds, error.y, color='teal')\n",
    "pyplot.plot(error.ds, error.yhat, color='darkslateblue')\n",
    "pyplot.legend(['y', 'yhat'])\n",
    "pyplot.show()"
   ]
  },
  {
   "cell_type": "code",
   "execution_count": 50,
   "metadata": {
    "colab": {
     "base_uri": "https://localhost:8080/",
     "height": 34
    },
    "colab_type": "code",
    "executionInfo": {
     "elapsed": 287,
     "status": "ok",
     "timestamp": 1553620182623,
     "user": {
      "displayName": "Brandon Niskala",
      "photoUrl": "",
      "userId": "00468056878931810182"
     },
     "user_tz": 240
    },
    "id": "BguYMkxYKK8M",
    "outputId": "595dea13-9ae8-4b6b-c2a3-0b2c97410466"
   },
   "outputs": [
    {
     "data": {
      "text/plain": [
       "38.299999999999997"
      ]
     },
     "execution_count": 50,
     "metadata": {},
     "output_type": "execute_result"
    }
   ],
   "source": [
    "crime_temp.TMax.max()"
   ]
  },
  {
   "cell_type": "code",
   "execution_count": 51,
   "metadata": {
    "colab": {
     "base_uri": "https://localhost:8080/",
     "height": 34
    },
    "colab_type": "code",
    "executionInfo": {
     "elapsed": 550,
     "status": "ok",
     "timestamp": 1553620414817,
     "user": {
      "displayName": "Brandon Niskala",
      "photoUrl": "",
      "userId": "00468056878931810182"
     },
     "user_tz": 240
    },
    "id": "G8XcLKhF_gzT",
    "outputId": "08ad9942-bd4a-4f2e-95bd-f144ad56c2be"
   },
   "outputs": [
    {
     "data": {
      "text/plain": [
       "12.800000000000001"
      ]
     },
     "execution_count": 51,
     "metadata": {},
     "output_type": "execute_result"
    }
   ],
   "source": [
    "crime_temp.TMax.min()"
   ]
  },
  {
   "cell_type": "code",
   "execution_count": 52,
   "metadata": {
    "colab": {},
    "colab_type": "code",
    "id": "zMynu7-c-f95"
   },
   "outputs": [],
   "source": [
    "hottest = crime_temp.loc[crime_temp.TMax == 38.3, 'date']"
   ]
  },
  {
   "cell_type": "code",
   "execution_count": 53,
   "metadata": {
    "colab": {
     "base_uri": "https://localhost:8080/",
     "height": 51
    },
    "colab_type": "code",
    "executionInfo": {
     "elapsed": 570,
     "status": "ok",
     "timestamp": 1553620269619,
     "user": {
      "displayName": "Brandon Niskala",
      "photoUrl": "",
      "userId": "00468056878931810182"
     },
     "user_tz": 240
    },
    "id": "3omP__Dq-8za",
    "outputId": "8fdd373b-0a4b-4e52-e858-82fe4fbeae86"
   },
   "outputs": [
    {
     "data": {
      "text/plain": [
       "1719    2012-09-15\n",
       "Name: date, dtype: object"
      ]
     },
     "execution_count": 53,
     "metadata": {},
     "output_type": "execute_result"
    }
   ],
   "source": [
    "hottest"
   ]
  },
  {
   "cell_type": "code",
   "execution_count": 54,
   "metadata": {
    "colab": {},
    "colab_type": "code",
    "id": "IaeK5OpY_k27"
   },
   "outputs": [],
   "source": [
    "coldest = crime_temp.loc[crime_temp.TMax == 12.8, 'date']"
   ]
  },
  {
   "cell_type": "code",
   "execution_count": 55,
   "metadata": {
    "colab": {
     "base_uri": "https://localhost:8080/",
     "height": 102
    },
    "colab_type": "code",
    "executionInfo": {
     "elapsed": 900,
     "status": "ok",
     "timestamp": 1553620442314,
     "user": {
      "displayName": "Brandon Niskala",
      "photoUrl": "",
      "userId": "00468056878931810182"
     },
     "user_tz": 240
    },
    "id": "ZcERqTit_ozY",
    "outputId": "d66c167c-66f6-45f2-968a-405e29514ef9"
   },
   "outputs": [
    {
     "data": {
      "text/plain": [
       "20      2008-01-21\n",
       "367     2009-01-02\n",
       "707     2009-12-08\n",
       "1442    2011-12-13\n",
       "Name: date, dtype: object"
      ]
     },
     "execution_count": 55,
     "metadata": {},
     "output_type": "execute_result"
    }
   ],
   "source": [
    "coldest"
   ]
  },
  {
   "cell_type": "code",
   "execution_count": 56,
   "metadata": {
    "colab": {},
    "colab_type": "code",
    "id": "2rowrCl9-_eL"
   },
   "outputs": [],
   "source": [
    "hottestDF = raw.loc[raw['date'] == '2012-09-15']\n"
   ]
  },
  {
   "cell_type": "code",
   "execution_count": 57,
   "metadata": {
    "colab": {
     "base_uri": "https://localhost:8080/",
     "height": 459
    },
    "colab_type": "code",
    "executionInfo": {
     "elapsed": 304,
     "status": "ok",
     "timestamp": 1553620569411,
     "user": {
      "displayName": "Brandon Niskala",
      "photoUrl": "",
      "userId": "00468056878931810182"
     },
     "user_tz": 240
    },
    "id": "hhh5sxFUAGLu",
    "outputId": "f87a0129-bad7-413e-f89f-36158032c30b"
   },
   "outputs": [
    {
     "data": {
      "text/plain": [
       "['id',\n",
       " 'date',\n",
       " 'year',\n",
       " 'month',\n",
       " 'day',\n",
       " 'week',\n",
       " 'dow',\n",
       " 'time',\n",
       " 'hour',\n",
       " 'is_night',\n",
       " 'type',\n",
       " 'address',\n",
       " 'city',\n",
       " 'segment_id',\n",
       " 'nbrhood',\n",
       " 'community',\n",
       " 'comm_pop',\n",
       " 'council',\n",
       " 'council_pop',\n",
       " 'asr_zone',\n",
       " 'lampdist',\n",
       " 'lat',\n",
       " 'lon',\n",
       " 'desc',\n",
       " 'gctype',\n",
       " 'gcquality']"
      ]
     },
     "execution_count": 57,
     "metadata": {},
     "output_type": "execute_result"
    }
   ],
   "source": [
    "list(hottestDF)"
   ]
  },
  {
   "cell_type": "code",
   "execution_count": 58,
   "metadata": {
    "colab": {},
    "colab_type": "code",
    "id": "WRSANFYf_tJ3"
   },
   "outputs": [],
   "source": [
    "coldestDF = raw.loc[raw['date'] == '2011-12-13'] #pick one because multiple days are cold\n"
   ]
  },
  {
   "cell_type": "code",
   "execution_count": 59,
   "metadata": {
    "colab": {},
    "colab_type": "code",
    "id": "OJJUujif_eGb"
   },
   "outputs": [
    {
     "ename": "ModuleNotFoundError",
     "evalue": "No module named 'plotly'",
     "output_type": "error",
     "traceback": [
      "\u001b[1;31m---------------------------------------------------------------------------\u001b[0m",
      "\u001b[1;31mModuleNotFoundError\u001b[0m                       Traceback (most recent call last)",
      "\u001b[1;32m<ipython-input-59-6504fef86f54>\u001b[0m in \u001b[0;36m<module>\u001b[1;34m\u001b[0m\n\u001b[0;32m      1\u001b[0m \u001b[1;31m#source: https://plot.ly/python/county-choropleth/\u001b[0m\u001b[1;33m\u001b[0m\u001b[1;33m\u001b[0m\u001b[1;33m\u001b[0m\u001b[0m\n\u001b[1;32m----> 2\u001b[1;33m \u001b[1;32mimport\u001b[0m \u001b[0mplotly\u001b[0m\u001b[1;33m.\u001b[0m\u001b[0mplotly\u001b[0m \u001b[1;32mas\u001b[0m \u001b[0mpy\u001b[0m\u001b[1;33m\u001b[0m\u001b[1;33m\u001b[0m\u001b[0m\n\u001b[0m\u001b[0;32m      3\u001b[0m \u001b[1;32mimport\u001b[0m \u001b[0mplotly\u001b[0m\u001b[1;33m.\u001b[0m\u001b[0mfigure_factory\u001b[0m \u001b[1;32mas\u001b[0m \u001b[0mff\u001b[0m\u001b[1;33m\u001b[0m\u001b[1;33m\u001b[0m\u001b[0m\n\u001b[0;32m      4\u001b[0m \u001b[1;32mimport\u001b[0m \u001b[0mnumpy\u001b[0m \u001b[1;32mas\u001b[0m \u001b[0mnp\u001b[0m\u001b[1;33m\u001b[0m\u001b[1;33m\u001b[0m\u001b[0m\n\u001b[0;32m      5\u001b[0m \u001b[1;32mimport\u001b[0m \u001b[0mplotly\u001b[0m\u001b[1;33m\u001b[0m\u001b[1;33m\u001b[0m\u001b[0m\n",
      "\u001b[1;31mModuleNotFoundError\u001b[0m: No module named 'plotly'"
     ]
    }
   ],
   "source": [
    "#source: https://plot.ly/python/county-choropleth/\n",
    "import plotly.plotly as py\n",
    "import plotly.figure_factory as ff\n",
    "import numpy as np\n",
    "import plotly \n",
    "plotly.tools.set_credentials_file(username='bjniskal', api_key='hUb4Fot1yifA9T5LXGgp') #have to sign up for account"
   ]
  },
  {
   "cell_type": "code",
   "execution_count": null,
   "metadata": {
    "colab": {},
    "colab_type": "code",
    "id": "qJNAF067_4x9"
   },
   "outputs": [],
   "source": [
    "import plotly.graph_objs as go"
   ]
  },
  {
   "cell_type": "code",
   "execution_count": null,
   "metadata": {
    "colab": {},
    "colab_type": "code",
    "id": "JjcEuefo__l9"
   },
   "outputs": [],
   "source": [
    "#Source: https://plot.ly/python/scattermapbox/\n",
    "\n",
    "mapbox_access_token = 'pk.eyJ1IjoiYmpuaXNrYWwiLCJhIjoiY2p0bmN5dm9sMHFtMzQzcXU1cnNjOHU2cSJ9.EOwJto794sHSWBcpLlAbIA'\n",
    "\n",
    "data = [\n",
    "    go.Scattermapbox(\n",
    "        lat = hottestDF.lat,\n",
    "        lon =hottestDF.lon,\n",
    "        mode = 'markers',\n",
    "        marker = go.scattermapbox.Marker(\n",
    "            size = 5\n",
    "        ),\n",
    "        text = hottestDF.desc,\n",
    "        \n",
    "    )\n",
    "]"
   ]
  },
  {
   "cell_type": "code",
   "execution_count": null,
   "metadata": {
    "colab": {
     "base_uri": "https://localhost:8080/",
     "height": 546
    },
    "colab_type": "code",
    "executionInfo": {
     "elapsed": 2045,
     "status": "ok",
     "timestamp": 1553620704423,
     "user": {
      "displayName": "Brandon Niskala",
      "photoUrl": "",
      "userId": "00468056878931810182"
     },
     "user_tz": 240
    },
    "id": "lFmjtaYZAWah",
    "outputId": "467be71b-5f86-406b-ec88-31c7e9ff0cf1"
   },
   "outputs": [],
   "source": [
    "layout = go.Layout(\n",
    "    autosize=True,\n",
    "    hovermode='closest',\n",
    "    mapbox=go.layout.Mapbox(\n",
    "        accesstoken=mapbox_access_token,\n",
    "        bearing=0,\n",
    "        center=go.layout.mapbox.Center(\n",
    "            lat = 32.71,\n",
    "            lon = -117.16\n",
    "        ),\n",
    "        pitch=0,\n",
    "        zoom=10\n",
    "    ),\n",
    ")\n",
    "\n",
    "fig = go.Figure(data=data, layout=layout)\n",
    "py.iplot(fig, filename='SD Crime on Max Temp')"
   ]
  },
  {
   "cell_type": "code",
   "execution_count": null,
   "metadata": {
    "colab": {},
    "colab_type": "code",
    "id": "bTdggOxTAidQ"
   },
   "outputs": [],
   "source": [
    "mapbox_access_token = 'pk.eyJ1IjoiYmpuaXNrYWwiLCJhIjoiY2p0bmN5dm9sMHFtMzQzcXU1cnNjOHU2cSJ9.EOwJto794sHSWBcpLlAbIA'\n",
    "\n",
    "data = [\n",
    "    go.Scattermapbox(\n",
    "        lat = coldestDF.lat,\n",
    "        lon =coldestDF.lon,\n",
    "        mode = 'markers',\n",
    "        marker = go.scattermapbox.Marker(\n",
    "            size = 5\n",
    "        ),\n",
    "        text = coldestDF.desc,\n",
    "        \n",
    "    )\n",
    "]"
   ]
  },
  {
   "cell_type": "code",
   "execution_count": null,
   "metadata": {
    "colab": {
     "base_uri": "https://localhost:8080/",
     "height": 546
    },
    "colab_type": "code",
    "executionInfo": {
     "elapsed": 1737,
     "status": "ok",
     "timestamp": 1553620763630,
     "user": {
      "displayName": "Brandon Niskala",
      "photoUrl": "",
      "userId": "00468056878931810182"
     },
     "user_tz": 240
    },
    "id": "JRzLYgUeAuKS",
    "outputId": "e320354f-d080-4ede-fd6e-31375dbcf4ab"
   },
   "outputs": [],
   "source": [
    "layout = go.Layout(\n",
    "    autosize=True,\n",
    "    hovermode='closest',\n",
    "    mapbox=go.layout.Mapbox(\n",
    "        accesstoken=mapbox_access_token,\n",
    "        bearing=0,\n",
    "        center=go.layout.mapbox.Center(\n",
    "            lat = 32.71,\n",
    "            lon = -117.16\n",
    "        ),\n",
    "        pitch=0,\n",
    "        zoom=10\n",
    "    ),\n",
    ")\n",
    "\n",
    "fig = go.Figure(data=data, layout=layout)\n",
    "py.iplot(fig, filename='SD Crime on Min Temp')"
   ]
  },
  {
   "cell_type": "code",
   "execution_count": null,
   "metadata": {
    "colab": {},
    "colab_type": "code",
    "id": "hgOhTNaBBA0l"
   },
   "outputs": [],
   "source": [
    "raw.date = pd.to_datetime(raw.date)"
   ]
  },
  {
   "cell_type": "code",
   "execution_count": null,
   "metadata": {
    "colab": {},
    "colab_type": "code",
    "id": "oJCN5rQuBQzv"
   },
   "outputs": [],
   "source": [
    "weather.date = pd.to_datetime(weather.date)"
   ]
  },
  {
   "cell_type": "code",
   "execution_count": null,
   "metadata": {
    "colab": {
     "base_uri": "https://localhost:8080/",
     "height": 204
    },
    "colab_type": "code",
    "executionInfo": {
     "elapsed": 427,
     "status": "ok",
     "timestamp": 1553889323189,
     "user": {
      "displayName": "Brandon Niskala",
      "photoUrl": "",
      "userId": "00468056878931810182"
     },
     "user_tz": 240
    },
    "id": "tqGqf-SRBVIX",
    "outputId": "a2fb2573-1998-43fe-d394-bf5bd8db0119"
   },
   "outputs": [],
   "source": [
    "weather.head()\n"
   ]
  },
  {
   "cell_type": "code",
   "execution_count": null,
   "metadata": {
    "colab": {},
    "colab_type": "code",
    "id": "qlNcByL9-Oxi"
   },
   "outputs": [],
   "source": [
    "crimeByDay = raw.groupby('date').size()"
   ]
  },
  {
   "cell_type": "code",
   "execution_count": null,
   "metadata": {
    "colab": {},
    "colab_type": "code",
    "id": "3SEsoD-L-Luj"
   },
   "outputs": [],
   "source": [
    "crimeByDay = {'date' : crimeByDay.index, 'crimeCount' : list(crimeByDay)}"
   ]
  },
  {
   "cell_type": "code",
   "execution_count": null,
   "metadata": {
    "colab": {},
    "colab_type": "code",
    "id": "GK73zDT9-FWJ"
   },
   "outputs": [],
   "source": [
    "crimeByDay = pd.DataFrame(crimeByDay)"
   ]
  },
  {
   "cell_type": "code",
   "execution_count": null,
   "metadata": {
    "colab": {},
    "colab_type": "code",
    "id": "6eDXzIwV-AU9"
   },
   "outputs": [],
   "source": [
    "crimeWeather = crimeByDay.merge(weather, left_on = 'date', right_on = 'date')"
   ]
  },
  {
   "cell_type": "code",
   "execution_count": null,
   "metadata": {
    "colab": {
     "base_uri": "https://localhost:8080/",
     "height": 416
    },
    "colab_type": "code",
    "executionInfo": {
     "elapsed": 872,
     "status": "ok",
     "timestamp": 1553889334740,
     "user": {
      "displayName": "Brandon Niskala",
      "photoUrl": "",
      "userId": "00468056878931810182"
     },
     "user_tz": 240
    },
    "id": "7akN6sHIA3zC",
    "outputId": "d5819c69-5fda-4b95-b295-dc96ba0ab886"
   },
   "outputs": [],
   "source": [
    "#Sourced code from: https://matplotlib.org/gallery/api/two_scales.html\n",
    "t = crimeWeather.date\n",
    "data1 = crimeWeather.crimeCount\n",
    "data2 = crimeWeather.TMax\n",
    "\n",
    "fig, ax1 = plt.subplots()\n",
    "color = 'tab:red'\n",
    "ax1.set_xlabel('Date')\n",
    "ax1.set_ylabel('Crime Count', color = color)\n",
    "ax1.plot(t, data1, color = color)\n",
    "ax1.tick_params(axis='y', labelcolor=color)\n",
    "\n",
    "ax2 = ax1.twinx()  # instantiate a second axes that shares the same x-axis\n",
    "\n",
    "color = 'tab:gray'\n",
    "ax2.set_ylabel('Max Temperture', color = color)  \n",
    "ax2.plot(t, data2, color=color, alpha = 0.5)\n",
    "ax2.tick_params(axis ='y', labelcolor = color)\n",
    "\n",
    "fig.tight_layout()  # with out this the right y-label is cut off\n",
    "plt.title('Crime Count VS. Max Temp by day')\n",
    "plt.show()"
   ]
  },
  {
   "cell_type": "code",
   "execution_count": null,
   "metadata": {
    "colab": {},
    "colab_type": "code",
    "id": "F5c3G75fBZHY"
   },
   "outputs": [],
   "source": []
  }
 ],
 "metadata": {
  "colab": {
   "collapsed_sections": [],
   "name": "SDCrime V2.ipynb",
   "provenance": [],
   "version": "0.3.2"
  },
  "kernelspec": {
   "display_name": "Python 3",
   "language": "python",
   "name": "python3"
  },
  "language_info": {
   "codemirror_mode": {
    "name": "ipython",
    "version": 3
   },
   "file_extension": ".py",
   "mimetype": "text/x-python",
   "name": "python",
   "nbconvert_exporter": "python",
   "pygments_lexer": "ipython3",
   "version": "3.6.7"
  }
 },
 "nbformat": 4,
 "nbformat_minor": 1
}
